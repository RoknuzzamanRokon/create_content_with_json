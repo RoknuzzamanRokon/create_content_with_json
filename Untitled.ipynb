{
 "cells": [
  {
   "cell_type": "markdown",
   "id": "e14f02e7-b630-4c79-ac7d-2c9c4624fc00",
   "metadata": {},
   "source": [
    "### Here get data from my local machine from json file."
   ]
  },
  {
   "cell_type": "code",
   "execution_count": null,
   "id": "906f779d-29c2-48fb-8d25-402619f79610",
   "metadata": {},
   "outputs": [],
   "source": [
    "            'SupplierCode': 'Agoda',\n",
    "            'HotelId': hotel_data.get(\"hotel_id\", \"NULL\"),\n",
    "            'City': hotel_feed_full.get(\"addresses\", {}).get(\"address\", [{}])[0].get(\"city\", \"NULL\"),\n",
    "            'PostCode': hotel_feed_full.get(\"addresses\", {}).get(\"address\", [{}])[0].get(\"postal_code\", \"NULL\"),\n",
    "            'Country': hotel_feed_full.get(\"addresses\", {}).get(\"address\", [{}])[0].get(\"country\", \"NULL\"),\n",
    "            'CountryCode': None,\n",
    "            'HotelName': hotel_data.get(\"hotel_name\", \"NULL\"),\n",
    "            'Latitude': hotel_data.get(\"latitude\", \"NULL\"),\n",
    "            'Longitude': hotel_data.get(\"longitude\", \"NULL\"),\n",
    "            'PrimaryPhoto': None,\n",
    "            'AddressLine1': hotel_feed_full.get(\"addresses\", {}).get(\"address\", [{}])[0].get(\"address_line_1\", \"NULL\"), \n",
    "            'AddressLine2': hotel_feed_full.get(\"addresses\", {}).get(\"address\", [{}])[0].get(\"address_line_2\", \"NULL\"),\n",
    "            'HotelReview': hotel_data.get(\"number_of_reviews\", \"NULL\"),\n",
    "            'Website': None,\n",
    "            'ContactNumber': None,\n",
    "            'FaxNumber': None,\n",
    "            'HotelStar': hotel_data.get(\"star_rating\", \"NULL\"),"
   ]
  },
  {
   "cell_type": "code",
   "execution_count": 21,
   "id": "ac0d1d73-ae51-47a8-85f4-43b59657e4c4",
   "metadata": {},
   "outputs": [
    {
     "name": "stdout",
     "output_type": "stream",
     "text": [
      "21\n",
      "BARCELONA\n",
      "08015\n",
      "Spain\n",
      "Hotel Viladomat\n",
      "41.382474\n",
      "2.153346\n",
      "http://photos.hotelbeds.com/giata/00/000021/000021a_hb_ro_005.jpg\n",
      "Carrer De Viladomat, 197\n",
      "Eixample\n",
      "NULL\n",
      "NULL\n",
      "+34973283910\n",
      "recepcion.viladomat@aa-hoteles.com\n",
      "[{'type': 'Total number of rooms', 'title': 'Total number of rooms', 'icon': 'mdi mdi-alpha-f-circle-outline'}, {'type': 'Number of floors (main building)', 'title': 'Number of floors (main building)', 'icon': 'mdi mdi-alpha-f-circle-outline'}, {'type': 'Single rooms', 'title': 'Single rooms', 'icon': 'mdi mdi-alpha-f-circle-outline'}, {'type': 'Double rooms', 'title': 'Double rooms', 'icon': 'mdi mdi-alpha-f-circle-outline'}, {'type': 'Disability-friendly rooms', 'title': 'Disability-friendly rooms', 'icon': 'mdi mdi-alpha-f-circle-outline'}, {'type': 'hotel', 'title': 'hotel', 'icon': 'mdi mdi-alpha-f-circle-outline'}, {'type': 'American Express', 'title': 'American Express', 'icon': 'mdi mdi-alpha-f-circle-outline'}, {'type': 'Diners Club', 'title': 'Diners Club', 'icon': 'mdi mdi-alpha-f-circle-outline'}, {'type': 'MasterCard', 'title': 'MasterCard', 'icon': 'mdi mdi-alpha-f-circle-outline'}, {'type': 'Visa', 'title': 'Visa', 'icon': 'mdi mdi-alpha-f-circle-outline'}, {'type': 'Beach', 'title': 'Beach', 'icon': 'mdi mdi-alpha-f-circle-outline'}, {'type': 'Wheelchair-accessible', 'title': 'Wheelchair-accessible', 'icon': 'mdi mdi-alpha-f-circle-outline'}, {'type': 'Car park', 'title': 'Car park', 'icon': 'mdi mdi-alpha-f-circle-outline'}, {'type': 'Garage', 'title': 'Garage', 'icon': 'mdi mdi-alpha-f-circle-outline'}, {'type': '24-hour reception', 'title': '24-hour reception', 'icon': 'mdi mdi-alpha-f-circle-outline'}, {'type': 'Check-in hour', 'title': 'Check-in hour', 'icon': 'mdi mdi-alpha-f-circle-outline'}, {'type': 'Check-out hour', 'title': 'Check-out hour', 'icon': 'mdi mdi-alpha-f-circle-outline'}, {'type': 'Wi-fi', 'title': 'Wi-fi', 'icon': 'mdi mdi-alpha-f-circle-outline'}, {'type': 'Room service', 'title': 'Room service', 'icon': 'mdi mdi-alpha-f-circle-outline'}, {'type': 'Laundry service', 'title': 'Laundry service', 'icon': 'mdi mdi-alpha-f-circle-outline'}, {'type': 'Medical service', 'title': 'Medical service', 'icon': 'mdi mdi-alpha-f-circle-outline'}, {'type': 'Multilingual staff', 'title': 'Multilingual staff', 'icon': 'mdi mdi-alpha-f-circle-outline'}, {'type': 'Air conditioning in public areas', 'title': 'Air conditioning in public areas', 'icon': 'mdi mdi-alpha-f-circle-outline'}, {'type': 'Hotel safe', 'title': 'Hotel safe', 'icon': 'mdi mdi-alpha-f-circle-outline'}, {'type': 'Lift access', 'title': 'Lift access', 'icon': 'mdi mdi-alpha-f-circle-outline'}, {'type': 'Newspaper stand', 'title': 'Newspaper stand', 'icon': 'mdi mdi-alpha-f-circle-outline'}, {'type': 'Clothes dryer', 'title': 'Clothes dryer', 'icon': 'mdi mdi-alpha-f-circle-outline'}, {'type': 'Café', 'title': 'Café', 'icon': 'mdi mdi-alpha-f-circle-outline'}, {'type': 'Bar', 'title': 'Bar', 'icon': 'mdi mdi-alpha-f-circle-outline'}, {'type': 'Conference room', 'title': 'Conference room', 'icon': 'mdi mdi-alpha-f-circle-outline'}, {'type': 'Meeting room', 'title': 'Meeting room', 'icon': 'mdi mdi-alpha-f-circle-outline'}, {'type': 'Business centre', 'title': 'Business centre', 'icon': 'mdi mdi-alpha-f-circle-outline'}, {'type': 'Breakfast buffet', 'title': 'Breakfast buffet', 'icon': 'mdi mdi-alpha-f-circle-outline'}, {'type': 'Non-smoking establishment', 'title': 'Non-smoking establishment', 'icon': 'mdi mdi-alpha-f-circle-outline'}, {'type': 'Other Protocol', 'title': 'Other Protocol', 'icon': 'mdi mdi-alpha-f-circle-outline'}]\n"
     ]
    }
   ],
   "source": [
    "import os\n",
    "import json\n",
    "\n",
    "def get_data_from_json_file(file_name):\n",
    "    folder_path = \"D:/hotels_content_to_create_json_file/HotelInfo/Hotelbeds\"\n",
    "    file_path = os.path.join(folder_path, file_name)\n",
    "\n",
    "    if not os.path.join(folder_path, file_name):\n",
    "        raise FileNotFoundError(f\"The file '{file_name}' does not exist in '{folder_path}'.\")\n",
    "\n",
    "    try:\n",
    "        with open(file_path, 'r', encoding='utf-8') as file:\n",
    "            data =json.load(file)\n",
    "            return data\n",
    "    except json.JSONDecoderError as e:\n",
    "        raise ValueError(f\"Error decoding JSON from the file '{file_name}': {e}\")\n",
    "\n",
    "try:\n",
    "    hotel_data = get_data_from_json_file('21.json')\n",
    "    # print(hotel_data)\n",
    "    print(hotel_data.get(\"hotel_id\", None))\n",
    "    print(hotel_data.get(\"address\", {}).get(\"city\", None))\n",
    "    print(hotel_data.get(\"address\", {}).get(\"postal_code\", None))\n",
    "    print(hotel_data.get(\"address\", {}).get(\"country\", None))\n",
    "    print(hotel_data.get(\"name\", None))\n",
    "    print(hotel_data.get(\"address\", {}).get(\"latitude\", None))\n",
    "    print(hotel_data.get(\"address\", {}).get(\"longitude\", None))\n",
    "    print(hotel_data.get(\"primary_photo\", None))\n",
    "    print(hotel_data.get(\"address\", {}).get(\"address_line_1\", None))\n",
    "    print(hotel_data.get(\"address\", {}).get(\"address_line_2\", None))\n",
    "    print(hotel_data.get(\"review_rating\", {}).get(\"number_of_reviews\", None))\n",
    "    print(hotel_data.get(\"contacts\", {}).get(\"website\", None))\n",
    "    print(hotel_data.get(\"contacts\", {}).get(\"phone_numbers\", {})[0] or None)\n",
    "    print(hotel_data.get(\"contacts\", {}).get(\"email_address\", None))\n",
    "\n",
    "    print(hotel_data.get(\"facilities\"))\n",
    "    \n",
    "    # print(type(data))\n",
    "except Exception as e:\n",
    "    print(f\"Error: {e}\")"
   ]
  },
  {
   "cell_type": "code",
   "execution_count": null,
   "id": "f2296891-c5ef-464c-bc49-4f0141a722c0",
   "metadata": {},
   "outputs": [],
   "source": []
  }
 ],
 "metadata": {
  "kernelspec": {
   "display_name": "Python 3 (ipykernel)",
   "language": "python",
   "name": "python3"
  },
  "language_info": {
   "codemirror_mode": {
    "name": "ipython",
    "version": 3
   },
   "file_extension": ".py",
   "mimetype": "text/x-python",
   "name": "python",
   "nbconvert_exporter": "python",
   "pygments_lexer": "ipython3",
   "version": "3.12.7"
  }
 },
 "nbformat": 4,
 "nbformat_minor": 5
}
