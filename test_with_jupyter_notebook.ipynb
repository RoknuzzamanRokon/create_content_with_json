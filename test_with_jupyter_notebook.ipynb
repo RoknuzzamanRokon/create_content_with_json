{
 "cells": [
  {
   "cell_type": "markdown",
   "id": "7b73f538-0a84-4201-b93c-077ce6e4428e",
   "metadata": {},
   "source": [
    "## Database all function are checked here"
   ]
  },
  {
   "cell_type": "markdown",
   "id": "408bc86c-972d-47a1-9ca9-84984b5000af",
   "metadata": {},
   "source": [
    "#### Add module for database connections"
   ]
  },
  {
   "cell_type": "code",
   "execution_count": 25,
   "id": "261f0203-8e4f-42a7-ae39-7d04f3444f3e",
   "metadata": {},
   "outputs": [],
   "source": [
    "from sqlalchemy import create_engine, text, inspect\n",
    "from dotenv import load_dotenv\n",
    "from datetime import datetime\n",
    "import pandas as pd\n",
    "import time\n",
    "import os\n"
   ]
  },
  {
   "cell_type": "markdown",
   "id": "7d835f87-4f4c-4fef-8f3f-4fdd9a26949f",
   "metadata": {},
   "source": [
    "### Connect enviroment using dotenv."
   ]
  },
  {
   "cell_type": "code",
   "execution_count": 26,
   "id": "e860ae4a-24fa-4c58-809a-5096171978c8",
   "metadata": {},
   "outputs": [],
   "source": [
    "load_dotenv()\n",
    "\n",
    "db_user = os.getenv('DB_USER')\n",
    "db_pass = os.getenv('DB_PASSWORD')\n",
    "db_host = os.getenv('DB_HOST')\n",
    "db_name = os.getenv('DB_NAME')"
   ]
  },
  {
   "cell_type": "markdown",
   "id": "86a5c00c-e17e-4245-9793-032c039dd3ea",
   "metadata": {},
   "source": [
    "### Create engine"
   ]
  },
  {
   "cell_type": "code",
   "execution_count": 27,
   "id": "31b0254f-6bb0-456c-9681-283c15284cbe",
   "metadata": {},
   "outputs": [],
   "source": [
    "DATABASE_URL = f\"mysql+pymysql://{db_user}:{db_pass}@{db_host}/{db_name}\"\n",
    "engine = create_engine(DATABASE_URL)"
   ]
  },
  {
   "cell_type": "markdown",
   "id": "c0cac6fa-2d7f-4974-ad95-96ab8e557cd6",
   "metadata": {},
   "source": [
    "### Database connection test"
   ]
  },
  {
   "cell_type": "code",
   "execution_count": 28,
   "id": "1ffaa702-7510-43b1-9e69-6e3efb7a1a22",
   "metadata": {},
   "outputs": [
    {
     "name": "stdout",
     "output_type": "stream",
     "text": [
      "Connected to database: itt_master_contents\n"
     ]
    }
   ],
   "source": [
    "try:\n",
    "    with engine.connect() as connection:\n",
    "        result = connection.execute(text(\"SELECT DATABASE()\"))\n",
    "        db_name = result.fetchone()[0]\n",
    "        print(f\"Connected to database: {db_name}\")\n",
    "except Exception as e:\n",
    "    print(f\"Error: {e}\")"
   ]
  },
  {
   "cell_type": "markdown",
   "id": "8de96a21-0c30-4bc5-ac54-7a676326df64",
   "metadata": {},
   "source": [
    "### Print all database table"
   ]
  },
  {
   "cell_type": "code",
   "execution_count": 30,
   "id": "0a41a137-001f-4566-aa8f-ecb57dfe9a37",
   "metadata": {},
   "outputs": [
    {
     "name": "stdout",
     "output_type": "stream",
     "text": [
      "Table in the database: itt_master_contents\n",
      "hotel_info_all\n",
      "hotels_info_with_gidestination_code\n",
      "innova_hotels_main\n",
      "vervotech_ProviderFamily\n",
      "vervotech_hotel_list\n",
      "vervotech_hotel_map_new\n",
      "vervotech_hotel_map_update\n",
      "vervotech_mapping\n",
      "vervotech_update_data_info\n"
     ]
    }
   ],
   "source": [
    "try:\n",
    "    inspactor = inspect(engine)\n",
    "    tables = inspactor.get_table_names()\n",
    "    if tables:\n",
    "        print(f\"Table in the database: {db_name}\")\n",
    "        for table in tables:\n",
    "            print(table)\n",
    "except Exception as e:\n",
    "    print(f\"Error from database. {e}\")\n",
    "    "
   ]
  },
  {
   "cell_type": "markdown",
   "id": "71a7263f-a7aa-4d2c-adf9-336017f45721",
   "metadata": {},
   "source": [
    "### Get all data from a table for test."
   ]
  },
  {
   "cell_type": "code",
   "execution_count": null,
   "id": "f42be285-9e83-4f3e-84ea-f3f8e0e5c0a3",
   "metadata": {
    "scrolled": true
   },
   "outputs": [],
   "source": [
    "table_name = \"innova_hotels_main\"\n",
    "\n",
    "df = pd.read_sql(table_name, engine)\n",
    "\n",
    "print(df)"
   ]
  },
  {
   "cell_type": "markdown",
   "id": "742c9ede-628a-4361-950b-e663f81503d9",
   "metadata": {},
   "source": [
    "### Get header in the data table using pandes only"
   ]
  },
  {
   "cell_type": "code",
   "execution_count": 34,
   "id": "464d47f7-dbb3-40d0-ac73-ec9957b91f83",
   "metadata": {},
   "outputs": [
    {
     "name": "stdout",
     "output_type": "stream",
     "text": [
      "['Id', 'IttId', 'VervotechId', 'SupplierCode', 'HotelId', 'DestinationId', 'City', 'CityCode', 'State', 'StateCode', 'PostCode', 'Country', 'CountryCode', 'HotelType', 'HotelName', 'Latitude', 'Longitude', 'PrimaryPhoto', 'AddressLine1', 'AddressLine2', 'HotelReview', 'Website', 'Email', 'ContactNumber', 'HotelStar', 'RoomAmenities', 'Amenities_1', 'Amenities_2', 'Amenities_3', 'Amenities_4', 'GoogleLocationLink', 'MapStatus', 'JsonContentStatus', 'ContentLastUpdateDate', 'Confidence', 'CreatedAt', 'ModifiedOn']\n"
     ]
    }
   ],
   "source": [
    "df = pd.read_sql(table_name, engine)\n",
    "\n",
    "header = df.columns.tolist()\n",
    "\n",
    "# print(header)"
   ]
  },
  {
   "cell_type": "markdown",
   "id": "f78de55a-951a-47c1-a846-5bf250ab0f58",
   "metadata": {},
   "source": [
    "### Get header in the data table using SQL query"
   ]
  },
  {
   "cell_type": "code",
   "execution_count": 38,
   "id": "aa24ffb1-1a47-4cf5-b8bf-33653729f466",
   "metadata": {},
   "outputs": [
    {
     "name": "stdout",
     "output_type": "stream",
     "text": [
      "VervotechId\n"
     ]
    }
   ],
   "source": [
    "table = \"innova_hotels_main\"\n",
    "df = pd.read_sql(table, engine)\n",
    "\n",
    "query = f\"SELECT * FROM {table} LIMIT 0;\"\n",
    "\n",
    "header = pd.read_sql(query, engine)\n",
    "\n",
    "header_with_dataframe = header.columns.to_list()\n",
    "# print(header)\n",
    "# print(header_with_dataframe)"
   ]
  },
  {
   "cell_type": "markdown",
   "id": "b1bf881b-3256-4a81-b917-3b61fcd74bd8",
   "metadata": {},
   "source": [
    "### Get number one row in my data table without dictionary"
   ]
  },
  {
   "cell_type": "code",
   "execution_count": 47,
   "id": "c86d5ec0-fcbe-44b7-a380-aa5f74560fee",
   "metadata": {},
   "outputs": [
    {
     "name": "stdout",
     "output_type": "stream",
     "text": [
      "Number one row:\n",
      " Id                                                                       1\n",
      "IttId                                                                 None\n",
      "VervotechId                                                           None\n",
      "SupplierCode                                                          oryx\n",
      "HotelId                                                                  3\n",
      "DestinationId                                                         6071\n",
      "City                                                                 Aswan\n",
      "CityCode                                                              None\n",
      "State                                                                 None\n",
      "StateCode                                                                 \n",
      "PostCode                                                             81511\n",
      "Country                                                              Egypt\n",
      "CountryCode                                                             EG\n",
      "HotelType                                                             None\n",
      "HotelName                                Sofitel Legend Old Cataract Aswan\n",
      "Latitude                                                   24.082284426992\n",
      "Longitude                                                  32.887715399265\n",
      "PrimaryPhoto             https://static.giinfotech.ae/medianew/full/3/4...\n",
      "AddressLine1                                        Abtal El Tahrir Street\n",
      "AddressLine2                                                   Aswan 81511\n",
      "HotelReview                                                              0\n",
      "Website                    https://all.accor.com/hotel/1666/index.en.shtml\n",
      "Email                                                                 None\n",
      "ContactNumber                                                +201022229071\n",
      "HotelStar                                                                0\n",
      "RoomAmenities                                                         None\n",
      "Amenities_1              Bathroom, Shower, Bathtub, Bidet, Hairdryer, D...\n",
      "Amenities_2              Air conditioning, Hotel Safe, Currency Exchang...\n",
      "Amenities_3                                                           None\n",
      "Amenities_4                                                           None\n",
      "GoogleLocationLink                                                    None\n",
      "MapStatus                                                             None\n",
      "JsonContentStatus                                                     None\n",
      "ContentLastUpdateDate                                                  NaT\n",
      "Confidence                                                            None\n",
      "CreatedAt                                                              NaT\n",
      "ModifiedOn                                                             NaT\n",
      "Name: 0, dtype: object\n"
     ]
    }
   ],
   "source": [
    "table = \"innova_hotels_main\"\n",
    "df = pd.read_sql(table, engine)\n",
    "\n",
    "number_one_row = df.iloc[0]\n",
    "print(f\"Number one row:\\n {number_one_row}\")"
   ]
  },
  {
   "cell_type": "markdown",
   "id": "bf661a48-3f30-4aae-8314-b6967a687c25",
   "metadata": {},
   "source": [
    "### Get number one row in my data table with dictionary"
   ]
  },
  {
   "cell_type": "code",
   "execution_count": 48,
   "id": "39dc0871-b2fc-4398-b5b3-c6fd19ea14f1",
   "metadata": {},
   "outputs": [
    {
     "name": "stdout",
     "output_type": "stream",
     "text": [
      "{'Id': 1, 'IttId': None, 'VervotechId': None, 'SupplierCode': 'oryx', 'HotelId': '3', 'DestinationId': '6071', 'City': 'Aswan', 'CityCode': None, 'State': None, 'StateCode': '', 'PostCode': '81511', 'Country': 'Egypt', 'CountryCode': 'EG', 'HotelType': None, 'HotelName': 'Sofitel Legend Old Cataract Aswan', 'Latitude': '24.082284426992', 'Longitude': '32.887715399265', 'PrimaryPhoto': 'https://static.giinfotech.ae/medianew/full/3/4500893.jpg', 'AddressLine1': 'Abtal El Tahrir Street', 'AddressLine2': 'Aswan 81511', 'HotelReview': '0', 'Website': 'https://all.accor.com/hotel/1666/index.en.shtml', 'Email': None, 'ContactNumber': '+201022229071', 'HotelStar': '0', 'RoomAmenities': None, 'Amenities_1': 'Bathroom, Shower, Bathtub, Bidet, Hairdryer, Direct dial telephone, Radio, Internet access, Minibar, Fridge, King-size Bed, Air conditioning (centrally regulated), Central Heating, Safe, Balcony/Terrace, TV, Double Bed, Tea/coffee maker, Washing Machine', 'Amenities_2': 'Air conditioning, Hotel Safe, Currency Exchange, Lifts, Cafe, Shops, Bar(s), Nightclub, Restaurant(s), Conference Room, Internet access, WLAN access, Room Service, Laundry Service, Medical Assistance, Bicycle Hire, Car Park, Kids Club, Playground, Laundry', 'Amenities_3': None, 'Amenities_4': None, 'GoogleLocationLink': None, 'MapStatus': None, 'JsonContentStatus': None, 'ContentLastUpdateDate': NaT, 'Confidence': None, 'CreatedAt': NaT, 'ModifiedOn': NaT}\n"
     ]
    }
   ],
   "source": [
    "table = \"innova_hotels_main\"\n",
    "df = pd.read_sql(table, engine)\n",
    "\n",
    "one_number_row = df.iloc[0]\n",
    "\n",
    "row_info_with_dict = one_number_row.to_dict()\n",
    "\n",
    "print(row_info_with_dict)"
   ]
  },
  {
   "cell_type": "markdown",
   "id": "36ada10b-3f2d-4650-8e93-6267f0f3dedd",
   "metadata": {},
   "source": [
    "### Get selectted key value."
   ]
  },
  {
   "cell_type": "code",
   "execution_count": 75,
   "id": "1539ec97-ac0b-42b9-9b20-3d64043cd367",
   "metadata": {},
   "outputs": [
    {
     "name": "stdout",
     "output_type": "stream",
     "text": [
      "Holte Id: 3\n",
      "Supplier Code: oryx\n",
      "Hotel Name: Sofitel Legend Old Cataract Aswan\n"
     ]
    }
   ],
   "source": [
    "hotel_id = row_info_with_dict.get(\"HotelId\")\n",
    "supplierCode = row_info_with_dict.get(\"SupplierCode\")\n",
    "hotel_name = row_info_with_dict.get(\"HotelName\")\n",
    "amenities = row_info_with_dict.get(\"Amenities_1\")\n",
    "\n",
    "print(f\"Holte Id: {hotel_id}\")\n",
    "print(f\"Supplier Code: {supplierCode}\")\n",
    "print(f\"Hotel Name: {hotel_name}\")\n",
    "\n",
    "# print(f\"Hotel Amenities: {amenities}\")"
   ]
  },
  {
   "cell_type": "markdown",
   "id": "17dd15ea-e1a6-406d-9b74-2821bfaa7016",
   "metadata": {},
   "source": [
    "### Split data in a sell and separate value using strip."
   ]
  },
  {
   "cell_type": "code",
   "execution_count": 74,
   "id": "83282986-4ccc-4473-bc11-55a3321b2ade",
   "metadata": {},
   "outputs": [
    {
     "name": "stdout",
     "output_type": "stream",
     "text": [
      "Lenth data in sell: 19\n",
      "\n",
      "\n",
      "Bathroom\n",
      "Shower\n",
      "Bathtub\n",
      "Bidet\n",
      "Hairdryer\n",
      "Direct dial telephone\n",
      "Radio\n",
      "Internet access\n",
      "Minibar\n",
      "Fridge\n",
      "King-size Bed\n",
      "Air conditioning (centrally regulated)\n",
      "Central Heating\n",
      "Safe\n",
      "Balcony/Terrace\n",
      "TV\n",
      "Double Bed\n",
      "Tea/coffee maker\n",
      "Washing Machine\n"
     ]
    }
   ],
   "source": [
    "amenities_1 = row_info_with_dict.get(\"Amenities_1\")\n",
    "\n",
    "split_data = amenities_1.split(\",\")\n",
    "\n",
    "print(\"Lenth data in sell:\", len(split_data))\n",
    "\n",
    "print(\"\\n\")\n",
    "\n",
    "for i in range(len(split_data)):\n",
    "    print(split_data[i].strip())\n",
    "# print(split_data)"
   ]
  },
  {
   "cell_type": "code",
   "execution_count": null,
   "id": "e9dd67eb-17ea-4dc6-8adf-5dac35031a38",
   "metadata": {},
   "outputs": [],
   "source": []
  },
  {
   "cell_type": "code",
   "execution_count": null,
   "id": "b4172780-a53b-49dd-b628-cb3590093a65",
   "metadata": {},
   "outputs": [],
   "source": []
  },
  {
   "cell_type": "code",
   "execution_count": null,
   "id": "b4ef3330-7c77-4df2-a608-85bc7c8c7545",
   "metadata": {},
   "outputs": [],
   "source": []
  },
  {
   "cell_type": "code",
   "execution_count": null,
   "id": "e10b7bcb-d42a-425d-99d5-7f4f430ea4c5",
   "metadata": {},
   "outputs": [],
   "source": []
  },
  {
   "cell_type": "code",
   "execution_count": null,
   "id": "e02d7565-fc38-40aa-8eee-2253fe4ecd09",
   "metadata": {},
   "outputs": [],
   "source": []
  },
  {
   "cell_type": "markdown",
   "id": "2908daf0-c467-46e6-8ce0-1cc65895cb06",
   "metadata": {},
   "source": [
    "# For ratehawk with localdb."
   ]
  },
  {
   "cell_type": "code",
   "execution_count": 90,
   "id": "c5b9258e-599f-4861-a3fb-0e4c31af265a",
   "metadata": {},
   "outputs": [],
   "source": [
    "import pandas as pd\n",
    "from sqlalchemy import create_engine, MetaData, Table, Column, Float, Boolean, String\n",
    "from sqlalchemy.orm import sessionmaker\n",
    "from sqlalchemy.sql import text\n",
    "import json"
   ]
  },
  {
   "cell_type": "code",
   "execution_count": 91,
   "id": "22d24398-7739-4d39-8f33-212bf91e9c4f",
   "metadata": {},
   "outputs": [],
   "source": [
    "load_dotenv()\n",
    "\n",
    "db_user = os.getenv('DB_USER')\n",
    "db_pass = os.getenv('DB_PASSWORD')\n",
    "db_host = os.getenv('DB_HOST')\n",
    "db_name = os.getenv('DB_NAME')"
   ]
  },
  {
   "cell_type": "code",
   "execution_count": 92,
   "id": "8812ee69-f748-45bd-b988-65a8651cccec",
   "metadata": {},
   "outputs": [],
   "source": [
    "DATABASE_URL_SERVER = f\"mysql+pymysql://{db_user}:{db_pass}@{db_host}/{db_name}\"\n",
    "server_engine = create_engine(DATABASE_URL_SERVER)\n",
    "Session_1 = sessionmaker(bind=server_engine)\n",
    "session_1 = Session_1()\n",
    "\n",
    "DATABASE_URL_LOCAL = \"mysql+pymysql://root:@localhost/csvdata01_02102024\"\n",
    "local_engine = create_engine(DATABASE_URL_LOCAL)\n",
    "Session_2 = sessionmaker(bind=local_engine)\n",
    "session_2 = Session_2()"
   ]
  },
  {
   "cell_type": "code",
   "execution_count": 93,
   "id": "f488dcef-3a47-4f35-abd8-b07a61481b49",
   "metadata": {},
   "outputs": [
    {
     "name": "stdout",
     "output_type": "stream",
     "text": [
      "Connected to database: csvdata01_02102024\n"
     ]
    }
   ],
   "source": [
    "DATABASE_URL_LOCAL = \"mysql+pymysql://root:@localhost/csvdata01_02102024\"\n",
    "local_engine = create_engine(DATABASE_URL_LOCAL)\n",
    "Session_2 = sessionmaker(bind=local_engine)\n",
    "session_2 = Session_2()\n",
    "\n",
    "try:\n",
    "    with local_engine.connect() as connection:\n",
    "        result = connection.execute(text(\"SELECT DATABASE()\"))\n",
    "        db_name = result.fetchone()[0]\n",
    "        print(f\"Connected to database: {db_name}\")\n",
    "except Exception as e:\n",
    "    print(f\"Error: {e}\")"
   ]
  },
  {
   "cell_type": "code",
   "execution_count": 108,
   "id": "f93eb249-f3e5-4562-8ba1-70de1e7cfbd3",
   "metadata": {},
   "outputs": [
    {
     "name": "stdout",
     "output_type": "stream",
     "text": [
      "Table in the database: csvdata01_02102024\n",
      "hotels_info\n",
      "hotels_info_with_gidestination_code\n",
      "info_01\n",
      "my_table\n",
      "ratehawk\n",
      "z_ocas_member_data\n"
     ]
    }
   ],
   "source": [
    "try:\n",
    "    inspactor = inspect(local_engine)\n",
    "    tables = inspactor.get_table_names()\n",
    "    if tables:\n",
    "        print(f\"Table in the database: {db_name}\")\n",
    "        for table in tables:\n",
    "            print(table)\n",
    "except Exception as e:\n",
    "    print(f\"Error from database. {e}\")"
   ]
  },
  {
   "cell_type": "code",
   "execution_count": 115,
   "id": "ff9081c4-6b9b-44e0-9ef9-ad47cc7615cc",
   "metadata": {
    "scrolled": true
   },
   "outputs": [
    {
     "name": "stdout",
     "output_type": "stream",
     "text": [
      "{'my_id': 3199212, 'address': 'Kampong Chheuteal Village, Prasat Sambor, Prasat Sambor', 'amenity_groups': \"[{'amenities': ['24-hour reception', 'Smoke-free property', 'Garden'], 'non_free_amenities': [], 'group_name': 'General'}, {'amenities': ['Non-smoking rooms'], 'non_free_amenities': [], 'group_name': 'Rooms'}, {'amenities': ['Laundry'], 'non_free_amenities': ['Laundry'], 'group_name': 'Services and amenities'}, {'amenities': ['English'], 'non_free_amenities': [], 'group_name': 'Languages Spoken'}, {'amenities': ['No parking'], 'non_free_amenities': [], 'group_name': 'Parking'}, {'amenities': ['Beach/pool towels'], 'non_free_amenities': [], 'group_name': 'Pool and beach'}, {'amenities': ['Pets Not Allowed'], 'non_free_amenities': [], 'group_name': 'Pets'}]\", 'check_in_time': '14:00:00', 'check_out_time': '12:00:00', 'description_struct': \"[{'paragraphs': ['Want to save money while travelling? Itâ\\\\x80\\\\x99s easy: hotel Â«Isanborei Homestay 2Â» is located in Prasat Sambor. This hotel is located 2 km from the city center.'], 'title': 'Location'}, {'paragraphs': ['At the guestsâ\\\\x80\\\\x99 disposal, thereâ\\\\x80\\\\x99s also a laundry. The staff of the hotel will be happy to talk to you in English.'], 'title': 'At the hotel'}]\", 'id': '_0x2bba1', 'hid': '6291584', 'images': \"['https://cdn.worldota.net/t/{size}/content/b9/e4/b9e4799bb77f46b628d9a55a9c67d22205e32c6d.jpeg', 'https://cdn.worldota.net/t/{size}/content/5f/d9/5fd9a14ac6cd2602a5185d638be94c0395e111b9.jpeg', 'https://cdn.worldota.net/t/{size}/content/d4/96/d496093fb63d3c7625d442ccd0cac5481e191726.jpeg', 'https://cdn.worldota.net/t/{size}/content/7b/94/7b9499c89cfa4d3ba305d7c89be257a008b0bb49.jpeg', 'https://cdn.worldota.net/t/{size}/content/5f/ae/5fae72b4a6509f206d0581f46ef48bedcaa31b8b.jpeg', 'https://cdn.worldota.net/t/{size}/content/6e/a1/6ea1e0a5602b81c62c5d76d67f2eaffffe1fefd5.jpeg', 'https://cdn.worldota.net/t/{size}/content/6f/bf/6fbf01a0be6baac26cdf8ce33fd5a86bd4dca0a0.jpeg', 'https://cdn.worldota.net/t/{size}/content/e8/f1/e8f1470d5985e417434890e30bd527ecf5edf124.jpeg', 'https://cdn.worldota.net/t/{size}/content/99/e5/99e57b47ce81e9f82b182ef077bd094820f73e1c.jpeg', 'https://cdn.worldota.net/t/{size}/content/d0/64/d064fa89c49245ae32b88da263260f7093f68d16.jpeg']\", 'images_ext': \"[{'url': 'https://cdn.worldota.net/t/{size}/content/b9/e4/b9e4799bb77f46b628d9a55a9c67d22205e32c6d.jpeg', 'category_slug': 'hotel_front'}, {'url': 'https://cdn.worldota.net/t/{size}/content/5f/d9/5fd9a14ac6cd2602a5185d638be94c0395e111b9.jpeg', 'category_slug': 'lobby'}, {'url': 'https://cdn.worldota.net/t/{size}/content/d4/96/d496093fb63d3c7625d442ccd0cac5481e191726.jpeg', 'category_slug': 'balcony'}, {'url': 'https://cdn.worldota.net/t/{size}/content/7b/94/7b9499c89cfa4d3ba305d7c89be257a008b0bb49.jpeg', 'category_slug': 'bathroom'}, {'url': 'https://cdn.worldota.net/t/{size}/content/5f/ae/5fae72b4a6509f206d0581f46ef48bedcaa31b8b.jpeg', 'category_slug': 'bathroom'}, {'url': 'https://cdn.worldota.net/t/{size}/content/6e/a1/6ea1e0a5602b81c62c5d76d67f2eaffffe1fefd5.jpeg', 'category_slug': 'children'}, {'url': 'https://cdn.worldota.net/t/{size}/content/6f/bf/6fbf01a0be6baac26cdf8ce33fd5a86bd4dca0a0.jpeg', 'category_slug': 'children'}, {'url': 'https://cdn.worldota.net/t/{size}/content/e8/f1/e8f1470d5985e417434890e30bd527ecf5edf124.jpeg', 'category_slug': 'entertainment'}, {'url': 'https://cdn.worldota.net/t/{size}/content/99/e5/99e57b47ce81e9f82b182ef077bd094820f73e1c.jpeg', 'category_slug': 'outside'}, {'url': 'https://cdn.worldota.net/t/{size}/content/d0/64/d064fa89c49245ae32b88da263260f7093f68d16.jpeg', 'category_slug': 'outside'}]\", 'kind': 'Hotel', 'latitude': 12.8785, 'longitude': 105.05, 'name': 'Isanborei Homestay 2', 'phone': None, 'policy_struct': '[]', 'postal_code': None, 'room_groups': \"[{'room_group_id': 6, 'images': [], 'name': 'Bed in Dorm', 'room_amenities': ['shared-bathroom', 'towels'], 'rg_ext': {'class': 1, 'quality': 0, 'sex': 0, 'bathroom': 1, 'bedding': 0, 'family': 0, 'capacity': 0, 'club': 0, 'bedrooms': 0, 'balcony': 0, 'fl\", 'region': \"{'id': 965850015, 'country_code': 'KH', 'iata': None, 'name': 'Prasat Sambor', 'type': 'City', 'type_v2': 'city'}\", 'star_rating': 0.0, 'email': None, 'serp_filters': '[]', 'deleted': 0, 'is_closed': 0, 'is_gender_specification_required': 0, 'metapolicy_struct': \"{'internet': [], 'meal': [], 'children_meal': [], 'extra_bed': [], 'cot': [], 'pets': [], 'shuttle': [], 'parking': [], 'children': [], 'visa': {'visa_support': 'unspecified'}, 'deposit': [], 'no_show': {'availability': 'unspecified', 'time': None, 'day_period': 'unspecified'}, 'add_fee': [], 'check_in_check_out': []}\", 'metapolicy_extra_info': None, 'star_certificate': None, 'facts': \"{'floors_number': None, 'rooms_number': 1, 'year_built': None, 'year_renovated': None, 'electricity': {'frequency': [50], 'voltage': [230], 'sockets': ['a', 'c', 'g']}}\", 'payment_methods': '[]', 'hotel_chain': 'No chain', 'front_desk_time_start': None, 'front_desk_time_end': None, 'keys_pickup': \"{'type': 'unspecified', 'phone': None, 'email': None, 'apartment_office_address': None, 'apartment_extra_information': None, 'is_contactless': False}\", 'updated_at': Timestamp('2024-11-13 17:10:34.758077'), 'created_at': Timestamp('2024-11-13 17:10:34.758077')}\n"
     ]
    }
   ],
   "source": [
    "table = \"ratehawk\"\n",
    "\n",
    "query = f\"SELECT * FROM {table} LIMIT 4;\"\n",
    "\n",
    "df = pd.read_sql(query, local_engine)\n",
    "\n",
    "one_number_row = df.iloc[0]\n",
    "\n",
    "row_info_with_dict = one_number_row.to_dict()\n",
    "\n",
    "print(row_info_with_dict)"
   ]
  },
  {
   "cell_type": "code",
   "execution_count": 116,
   "id": "6d5795b6-0909-46e4-818c-85faab515550",
   "metadata": {
    "scrolled": true
   },
   "outputs": [
    {
     "ename": "TypeError",
     "evalue": "Object of type Timestamp is not JSON serializable",
     "output_type": "error",
     "traceback": [
      "\u001b[1;31m---------------------------------------------------------------------------\u001b[0m",
      "\u001b[1;31mTypeError\u001b[0m                                 Traceback (most recent call last)",
      "Cell \u001b[1;32mIn[116], line 1\u001b[0m\n\u001b[1;32m----> 1\u001b[0m json_value \u001b[38;5;241m=\u001b[39m \u001b[43mjson\u001b[49m\u001b[38;5;241;43m.\u001b[39;49m\u001b[43mdumps\u001b[49m\u001b[43m(\u001b[49m\u001b[43mrow_info_with_dict\u001b[49m\u001b[43m,\u001b[49m\u001b[43m \u001b[49m\u001b[43mindent\u001b[49m\u001b[38;5;241;43m=\u001b[39;49m\u001b[38;5;241;43m4\u001b[39;49m\u001b[43m)\u001b[49m\n\u001b[0;32m      3\u001b[0m \u001b[38;5;28mprint\u001b[39m(json_value)\n",
      "File \u001b[1;32mC:\\Program Files\\WindowsApps\\PythonSoftwareFoundation.Python.3.12_3.12.2032.0_x64__qbz5n2kfra8p0\\Lib\\json\\__init__.py:238\u001b[0m, in \u001b[0;36mdumps\u001b[1;34m(obj, skipkeys, ensure_ascii, check_circular, allow_nan, cls, indent, separators, default, sort_keys, **kw)\u001b[0m\n\u001b[0;32m    232\u001b[0m \u001b[38;5;28;01mif\u001b[39;00m \u001b[38;5;28mcls\u001b[39m \u001b[38;5;129;01mis\u001b[39;00m \u001b[38;5;28;01mNone\u001b[39;00m:\n\u001b[0;32m    233\u001b[0m     \u001b[38;5;28mcls\u001b[39m \u001b[38;5;241m=\u001b[39m JSONEncoder\n\u001b[0;32m    234\u001b[0m \u001b[38;5;28;01mreturn\u001b[39;00m \u001b[38;5;28;43mcls\u001b[39;49m\u001b[43m(\u001b[49m\n\u001b[0;32m    235\u001b[0m \u001b[43m    \u001b[49m\u001b[43mskipkeys\u001b[49m\u001b[38;5;241;43m=\u001b[39;49m\u001b[43mskipkeys\u001b[49m\u001b[43m,\u001b[49m\u001b[43m \u001b[49m\u001b[43mensure_ascii\u001b[49m\u001b[38;5;241;43m=\u001b[39;49m\u001b[43mensure_ascii\u001b[49m\u001b[43m,\u001b[49m\n\u001b[0;32m    236\u001b[0m \u001b[43m    \u001b[49m\u001b[43mcheck_circular\u001b[49m\u001b[38;5;241;43m=\u001b[39;49m\u001b[43mcheck_circular\u001b[49m\u001b[43m,\u001b[49m\u001b[43m \u001b[49m\u001b[43mallow_nan\u001b[49m\u001b[38;5;241;43m=\u001b[39;49m\u001b[43mallow_nan\u001b[49m\u001b[43m,\u001b[49m\u001b[43m \u001b[49m\u001b[43mindent\u001b[49m\u001b[38;5;241;43m=\u001b[39;49m\u001b[43mindent\u001b[49m\u001b[43m,\u001b[49m\n\u001b[0;32m    237\u001b[0m \u001b[43m    \u001b[49m\u001b[43mseparators\u001b[49m\u001b[38;5;241;43m=\u001b[39;49m\u001b[43mseparators\u001b[49m\u001b[43m,\u001b[49m\u001b[43m \u001b[49m\u001b[43mdefault\u001b[49m\u001b[38;5;241;43m=\u001b[39;49m\u001b[43mdefault\u001b[49m\u001b[43m,\u001b[49m\u001b[43m \u001b[49m\u001b[43msort_keys\u001b[49m\u001b[38;5;241;43m=\u001b[39;49m\u001b[43msort_keys\u001b[49m\u001b[43m,\u001b[49m\n\u001b[1;32m--> 238\u001b[0m \u001b[43m    \u001b[49m\u001b[38;5;241;43m*\u001b[39;49m\u001b[38;5;241;43m*\u001b[39;49m\u001b[43mkw\u001b[49m\u001b[43m)\u001b[49m\u001b[38;5;241;43m.\u001b[39;49m\u001b[43mencode\u001b[49m\u001b[43m(\u001b[49m\u001b[43mobj\u001b[49m\u001b[43m)\u001b[49m\n",
      "File \u001b[1;32mC:\\Program Files\\WindowsApps\\PythonSoftwareFoundation.Python.3.12_3.12.2032.0_x64__qbz5n2kfra8p0\\Lib\\json\\encoder.py:202\u001b[0m, in \u001b[0;36mJSONEncoder.encode\u001b[1;34m(self, o)\u001b[0m\n\u001b[0;32m    200\u001b[0m chunks \u001b[38;5;241m=\u001b[39m \u001b[38;5;28mself\u001b[39m\u001b[38;5;241m.\u001b[39miterencode(o, _one_shot\u001b[38;5;241m=\u001b[39m\u001b[38;5;28;01mTrue\u001b[39;00m)\n\u001b[0;32m    201\u001b[0m \u001b[38;5;28;01mif\u001b[39;00m \u001b[38;5;129;01mnot\u001b[39;00m \u001b[38;5;28misinstance\u001b[39m(chunks, (\u001b[38;5;28mlist\u001b[39m, \u001b[38;5;28mtuple\u001b[39m)):\n\u001b[1;32m--> 202\u001b[0m     chunks \u001b[38;5;241m=\u001b[39m \u001b[38;5;28;43mlist\u001b[39;49m\u001b[43m(\u001b[49m\u001b[43mchunks\u001b[49m\u001b[43m)\u001b[49m\n\u001b[0;32m    203\u001b[0m \u001b[38;5;28;01mreturn\u001b[39;00m \u001b[38;5;124m'\u001b[39m\u001b[38;5;124m'\u001b[39m\u001b[38;5;241m.\u001b[39mjoin(chunks)\n",
      "File \u001b[1;32mC:\\Program Files\\WindowsApps\\PythonSoftwareFoundation.Python.3.12_3.12.2032.0_x64__qbz5n2kfra8p0\\Lib\\json\\encoder.py:432\u001b[0m, in \u001b[0;36m_make_iterencode.<locals>._iterencode\u001b[1;34m(o, _current_indent_level)\u001b[0m\n\u001b[0;32m    430\u001b[0m     \u001b[38;5;28;01myield from\u001b[39;00m _iterencode_list(o, _current_indent_level)\n\u001b[0;32m    431\u001b[0m \u001b[38;5;28;01melif\u001b[39;00m \u001b[38;5;28misinstance\u001b[39m(o, \u001b[38;5;28mdict\u001b[39m):\n\u001b[1;32m--> 432\u001b[0m     \u001b[38;5;28;01myield from\u001b[39;00m _iterencode_dict(o, _current_indent_level)\n\u001b[0;32m    433\u001b[0m \u001b[38;5;28;01melse\u001b[39;00m:\n\u001b[0;32m    434\u001b[0m     \u001b[38;5;28;01mif\u001b[39;00m markers \u001b[38;5;129;01mis\u001b[39;00m \u001b[38;5;129;01mnot\u001b[39;00m \u001b[38;5;28;01mNone\u001b[39;00m:\n",
      "File \u001b[1;32mC:\\Program Files\\WindowsApps\\PythonSoftwareFoundation.Python.3.12_3.12.2032.0_x64__qbz5n2kfra8p0\\Lib\\json\\encoder.py:406\u001b[0m, in \u001b[0;36m_make_iterencode.<locals>._iterencode_dict\u001b[1;34m(dct, _current_indent_level)\u001b[0m\n\u001b[0;32m    404\u001b[0m         \u001b[38;5;28;01melse\u001b[39;00m:\n\u001b[0;32m    405\u001b[0m             chunks \u001b[38;5;241m=\u001b[39m _iterencode(value, _current_indent_level)\n\u001b[1;32m--> 406\u001b[0m         \u001b[38;5;28;01myield from\u001b[39;00m chunks\n\u001b[0;32m    407\u001b[0m \u001b[38;5;28;01mif\u001b[39;00m newline_indent \u001b[38;5;129;01mis\u001b[39;00m \u001b[38;5;129;01mnot\u001b[39;00m \u001b[38;5;28;01mNone\u001b[39;00m:\n\u001b[0;32m    408\u001b[0m     _current_indent_level \u001b[38;5;241m-\u001b[39m\u001b[38;5;241m=\u001b[39m \u001b[38;5;241m1\u001b[39m\n",
      "File \u001b[1;32mC:\\Program Files\\WindowsApps\\PythonSoftwareFoundation.Python.3.12_3.12.2032.0_x64__qbz5n2kfra8p0\\Lib\\json\\encoder.py:439\u001b[0m, in \u001b[0;36m_make_iterencode.<locals>._iterencode\u001b[1;34m(o, _current_indent_level)\u001b[0m\n\u001b[0;32m    437\u001b[0m         \u001b[38;5;28;01mraise\u001b[39;00m \u001b[38;5;167;01mValueError\u001b[39;00m(\u001b[38;5;124m\"\u001b[39m\u001b[38;5;124mCircular reference detected\u001b[39m\u001b[38;5;124m\"\u001b[39m)\n\u001b[0;32m    438\u001b[0m     markers[markerid] \u001b[38;5;241m=\u001b[39m o\n\u001b[1;32m--> 439\u001b[0m o \u001b[38;5;241m=\u001b[39m \u001b[43m_default\u001b[49m\u001b[43m(\u001b[49m\u001b[43mo\u001b[49m\u001b[43m)\u001b[49m\n\u001b[0;32m    440\u001b[0m \u001b[38;5;28;01myield from\u001b[39;00m _iterencode(o, _current_indent_level)\n\u001b[0;32m    441\u001b[0m \u001b[38;5;28;01mif\u001b[39;00m markers \u001b[38;5;129;01mis\u001b[39;00m \u001b[38;5;129;01mnot\u001b[39;00m \u001b[38;5;28;01mNone\u001b[39;00m:\n",
      "File \u001b[1;32mC:\\Program Files\\WindowsApps\\PythonSoftwareFoundation.Python.3.12_3.12.2032.0_x64__qbz5n2kfra8p0\\Lib\\json\\encoder.py:180\u001b[0m, in \u001b[0;36mJSONEncoder.default\u001b[1;34m(self, o)\u001b[0m\n\u001b[0;32m    161\u001b[0m \u001b[38;5;28;01mdef\u001b[39;00m \u001b[38;5;21mdefault\u001b[39m(\u001b[38;5;28mself\u001b[39m, o):\n\u001b[0;32m    162\u001b[0m \u001b[38;5;250m    \u001b[39m\u001b[38;5;124;03m\"\"\"Implement this method in a subclass such that it returns\u001b[39;00m\n\u001b[0;32m    163\u001b[0m \u001b[38;5;124;03m    a serializable object for ``o``, or calls the base implementation\u001b[39;00m\n\u001b[0;32m    164\u001b[0m \u001b[38;5;124;03m    (to raise a ``TypeError``).\u001b[39;00m\n\u001b[1;32m   (...)\u001b[0m\n\u001b[0;32m    178\u001b[0m \n\u001b[0;32m    179\u001b[0m \u001b[38;5;124;03m    \"\"\"\u001b[39;00m\n\u001b[1;32m--> 180\u001b[0m     \u001b[38;5;28;01mraise\u001b[39;00m \u001b[38;5;167;01mTypeError\u001b[39;00m(\u001b[38;5;124mf\u001b[39m\u001b[38;5;124m'\u001b[39m\u001b[38;5;124mObject of type \u001b[39m\u001b[38;5;132;01m{\u001b[39;00mo\u001b[38;5;241m.\u001b[39m\u001b[38;5;18m__class__\u001b[39m\u001b[38;5;241m.\u001b[39m\u001b[38;5;18m__name__\u001b[39m\u001b[38;5;132;01m}\u001b[39;00m\u001b[38;5;124m \u001b[39m\u001b[38;5;124m'\u001b[39m\n\u001b[0;32m    181\u001b[0m                     \u001b[38;5;124mf\u001b[39m\u001b[38;5;124m'\u001b[39m\u001b[38;5;124mis not JSON serializable\u001b[39m\u001b[38;5;124m'\u001b[39m)\n",
      "\u001b[1;31mTypeError\u001b[0m: Object of type Timestamp is not JSON serializable"
     ]
    }
   ],
   "source": [
    "json_value = json.dumps(row_info_with_dict, indent=4)\n",
    "\n",
    "print(json_value)"
   ]
  },
  {
   "cell_type": "code",
   "execution_count": null,
   "id": "57db1738-aaa8-4f09-8f0d-7e7366d14323",
   "metadata": {},
   "outputs": [],
   "source": []
  },
  {
   "cell_type": "code",
   "execution_count": null,
   "id": "22f0ac9f-fc37-4bc4-9a1e-c864f239bc9b",
   "metadata": {},
   "outputs": [],
   "source": []
  },
  {
   "cell_type": "code",
   "execution_count": 121,
   "id": "90ac77e5-5bb6-428b-9f39-a3e8775c8c45",
   "metadata": {},
   "outputs": [
    {
     "name": "stdout",
     "output_type": "stream",
     "text": [
      "An error occurred: (pymysql.err.ProgrammingError) (1146, \"Table 'itt_master_contents.ratehawk' doesn't exist\")\n",
      "[SQL: SELECT ratehawk.my_id AS ratehawk_my_id, ratehawk.address AS ratehawk_address, ratehawk.amenity_groups AS ratehawk_amenity_groups, ratehawk.check_in_time AS ratehawk_check_in_time, ratehawk.check_out_time AS ratehawk_check_out_time, ratehawk.description_struct AS ratehawk_description_struct, ratehawk.id AS ratehawk_id, ratehawk.hid AS ratehawk_hid, ratehawk.images AS ratehawk_images, ratehawk.images_ext AS ratehawk_images_ext, ratehawk.kind AS ratehawk_kind, ratehawk.latitude AS ratehawk_latitude, ratehawk.longitude AS ratehawk_longitude, ratehawk.name AS ratehawk_name, ratehawk.phone AS ratehawk_phone, ratehawk.policy_struct AS ratehawk_policy_struct, ratehawk.postal_code AS ratehawk_postal_code, ratehawk.room_groups AS ratehawk_room_groups, ratehawk.region AS ratehawk_region, ratehawk.star_rating AS ratehawk_star_rating, ratehawk.email AS ratehawk_email, ratehawk.serp_filters AS ratehawk_serp_filters, ratehawk.deleted AS ratehawk_deleted, ratehawk.is_closed AS ratehawk_is_closed, ratehawk.is_gender_specification_required AS ratehawk_is_gender_specification_required, ratehawk.metapolicy_struct AS ratehawk_metapolicy_struct, ratehawk.metapolicy_extra_info AS ratehawk_metapolicy_extra_info, ratehawk.star_certificate AS ratehawk_star_certificate, ratehawk.facts AS ratehawk_facts, ratehawk.payment_methods AS ratehawk_payment_methods, ratehawk.hotel_chain AS ratehawk_hotel_chain, ratehawk.front_desk_time_start AS ratehawk_front_desk_time_start, ratehawk.front_desk_time_end AS ratehawk_front_desk_time_end, ratehawk.keys_pickup AS ratehawk_keys_pickup, ratehawk.updated_at AS ratehawk_updated_at, ratehawk.created_at AS ratehawk_created_at \n",
      "FROM ratehawk \n",
      " LIMIT %(param_1)s]\n",
      "[parameters: {'param_1': 10}]\n",
      "(Background on this error at: https://sqlalche.me/e/20/f405)\n"
     ]
    }
   ],
   "source": [
    "from sqlalchemy import create_engine, Table, MetaData, text\n",
    "from sqlalchemy.orm import sessionmaker\n",
    "import json\n",
    "import os\n",
    "\n",
    "# Database connection setup\n",
    "db_host = os.getenv('DB_HOST')\n",
    "db_user = os.getenv('DB_USER')\n",
    "db_pass = os.getenv('DB_PASSWORD')\n",
    "db_name = os.getenv('DB_NAME')\n",
    "\n",
    "DATABASE_URL_SERVER = f\"mysql+pymysql://{db_user}:{db_pass}@{db_host}/{db_name}\"\n",
    "server_engine = create_engine(DATABASE_URL_SERVER)\n",
    "Session_1 = sessionmaker(bind=server_engine)\n",
    "session_1 = Session_1()\n",
    "\n",
    "DATABASE_URL_LOCAL = \"mysql+pymysql://root:@localhost/csvdata01_02102024\"\n",
    "local_engine = create_engine(DATABASE_URL_LOCAL)\n",
    "Session_2 = sessionmaker(bind=local_engine)\n",
    "session_2 = Session_2()\n",
    "\n",
    "metadata = MetaData()\n",
    "metadata.reflect(bind=server_engine)\n",
    "ratehawk = Table('ratehawk', metadata, autoload_with=local_engine)\n",
    "innova_hotels_main = Table('innova_hotels_main', metadata, autoload_with=server_engine)\n",
    "\n",
    "# Helper function to escape single quotes\n",
    "def escape_single_quotes(value):\n",
    "    if isinstance(value, str):\n",
    "        return value.replace(\"'\", \"''\")\n",
    "    return value\n",
    "\n",
    "# Mapping function to transfer only the first 10 rows\n",
    "def transfer_first_10_rows():\n",
    "    try:\n",
    "        with session_1.begin(), session_2.begin():\n",
    "            # Fetch the first 10 rows from the ratehawk table\n",
    "            results = session_1.query(ratehawk).limit(10).all()\n",
    "\n",
    "            for row in results:\n",
    "                # Parse JSON fields from the ratehawk table\n",
    "                data = {\n",
    "                    \"name\": row.name,\n",
    "                    \"systemId\": row.hid,\n",
    "                    \"address\": row.address,\n",
    "                    \"geocode.lat\": row.latitude,\n",
    "                    \"geocode.lon\": row.longitude,\n",
    "                    \"rating\": row.star_rating,\n",
    "                    \"contact.phoneNo\": row.phone,\n",
    "                    \"imageUrls\": json.loads(row.images) if row.images else [],\n",
    "                }\n",
    "\n",
    "                # Map the primary image URL if available\n",
    "                if data[\"imageUrls\"]:\n",
    "                    data[\"PrimaryPhoto\"] = data[\"imageUrls\"][0]\n",
    "                else:\n",
    "                    data[\"PrimaryPhoto\"] = None\n",
    "\n",
    "                # Map amenities to specific columns\n",
    "                amenities = json.loads(row.amenity_groups) if row.amenity_groups else []\n",
    "                for i in range(1, 6):\n",
    "                    column_name = f\"Amenities_{i}\"\n",
    "                    if amenities and i <= len(amenities):\n",
    "                        data[column_name] = amenities[i - 1]['amenities'][0]\n",
    "                    else:\n",
    "                        data[column_name] = None\n",
    "\n",
    "                data['SupplierCode'] = 'ratehawk'\n",
    "                data = {k: escape_single_quotes(v) for k, v in data.items()}\n",
    "\n",
    "                # Set missing columns to NULL\n",
    "                for col in innova_hotels_main.columns:\n",
    "                    if col.name not in data:\n",
    "                        data[col.name] = None\n",
    "\n",
    "                # Prepare SQL query for upsert\n",
    "                columns = ', '.join(data.keys())\n",
    "                values = ', '.join([f\"'{v}'\" if v is not None else 'NULL' for v in data.values()])\n",
    "                update_clause = ', '.join([f\"{col} = VALUES({col})\" for col in data.keys()])\n",
    "\n",
    "                sql = f\"\"\"\n",
    "                    INSERT INTO innova_hotels_main ({columns})\n",
    "                    VALUES ({values})\n",
    "                    ON DUPLICATE KEY UPDATE {update_clause}\n",
    "                \"\"\"\n",
    "                session_2.execute(text(sql))\n",
    "\n",
    "        print(\"First 10 rows updated successfully in innova_hotels_main.\")\n",
    "    except Exception as e:\n",
    "        print(f\"An error occurred: {e}\")\n",
    "        session_1.rollback()\n",
    "        session_2.rollback()\n",
    "\n",
    "# Execute the transfer\n",
    "transfer_first_10_rows()\n"
   ]
  },
  {
   "cell_type": "code",
   "execution_count": 128,
   "id": "bf31ab13-b490-4916-8569-98904b522d88",
   "metadata": {},
   "outputs": [
    {
     "name": "stdout",
     "output_type": "stream",
     "text": [
      "Invalid JSON in 'images' for row ID: 3199212. Skipping...\n",
      "Invalid JSON in 'amenity_groups' for row ID: 3199212. Skipping...\n",
      "An error occurred: gi_destination_id\n"
     ]
    }
   ],
   "source": [
    "from sqlalchemy import create_engine, Table, MetaData, text\n",
    "from sqlalchemy.orm import sessionmaker\n",
    "import json\n",
    "import os\n",
    "\n",
    "# Database connection setup\n",
    "db_host = os.getenv('DB_HOST')\n",
    "db_user = os.getenv('DB_USER')\n",
    "db_pass = os.getenv('DB_PASSWORD')\n",
    "db_name = os.getenv('DB_NAME')\n",
    "\n",
    "DATABASE_URL_SERVER = f\"mysql+pymysql://{db_user}:{db_pass}@{db_host}/{db_name}\"\n",
    "server_engine = create_engine(DATABASE_URL_SERVER)\n",
    "Session_1 = sessionmaker(bind=server_engine)\n",
    "session_1 = Session_1()\n",
    "\n",
    "DATABASE_URL_LOCAL = \"mysql+pymysql://root:@localhost/csvdata01_02102024\"\n",
    "local_engine = create_engine(DATABASE_URL_LOCAL)\n",
    "Session_2 = sessionmaker(bind=local_engine)\n",
    "session_2 = Session_2()\n",
    "\n",
    "# Create separate MetaData objects for each engine\n",
    "metadata_local = MetaData()\n",
    "metadata_server = MetaData()\n",
    "\n",
    "# Reflect tables to the correct engines\n",
    "metadata_local.reflect(bind=local_engine)\n",
    "metadata_server.reflect(bind=server_engine)\n",
    "\n",
    "ratehawk = Table('ratehawk', metadata_local, autoload_with=local_engine)\n",
    "innova_hotels_main = Table('innova_hotels_main', metadata_server, autoload_with=server_engine)\n",
    "\n",
    "# Columns to be included in the insert\n",
    "columns_to_insert = [\n",
    "    'Id', 'IttId', 'VervotechId', 'SupplierCode', 'HotelId', 'DestinationId', 'City', 'CityCode', 'State', \n",
    "    'StateCode', 'PostCode', 'Country', 'CountryCode', 'HotelType', 'HotelName', 'Latitude', 'Longitude', \n",
    "    'PrimaryPhoto', 'AddressLine1', 'AddressLine2', 'HotelReview', 'Website', 'Email', 'ContactNumber', \n",
    "    'HotelStar', 'RoomAmenities', 'Amenities_1', 'Amenities_2', 'Amenities_3', 'Amenities_4'\n",
    "]\n",
    "\n",
    "# Helper function to escape single quotes\n",
    "def escape_single_quotes(value):\n",
    "    if isinstance(value, str):\n",
    "        return value.replace(\"'\", \"''\")\n",
    "    return value\n",
    "\n",
    "# Mapping function to transfer only the first 10 rows\n",
    "def transfer_first_10_rows():\n",
    "    try:\n",
    "        with session_1.begin(), session_2.begin():\n",
    "            # Fetch the first 10 rows from the ratehawk table in the local database\n",
    "            results = session_2.query(ratehawk).limit(10).all()\n",
    "\n",
    "            for row in results:\n",
    "                try:\n",
    "                    # Parse JSON fields from the ratehawk table\n",
    "                    images = json.loads(row.images) if row.images else []\n",
    "                except json.JSONDecodeError:\n",
    "                    print(f\"Invalid JSON in 'images' for row ID: {row.my_id}. Skipping...\")\n",
    "                    images = []\n",
    "\n",
    "                try:\n",
    "                    amenities = json.loads(row.amenity_groups) if row.amenity_groups else []\n",
    "                except json.JSONDecodeError:\n",
    "                    print(f\"Invalid JSON in 'amenity_groups' for row ID: {row.my_id}. Skipping...\")\n",
    "                    amenities = []\n",
    "\n",
    "                data = {\n",
    "                    \n",
    "                }\n",
    "\n",
    "                data = {k: escape_single_quotes(v) if v is not None else None for k, v in data.items()}\n",
    "\n",
    "                # Prepare SQL query for upsert\n",
    "                columns = ', '.join(data.keys())\n",
    "                values = ', '.join([f\"'{v}'\" if v is not None else 'NULL' for v in data.values()])\n",
    "                update_clause = ', '.join([f\"{col} = VALUES({col})\" for col in data.keys()])\n",
    "\n",
    "                sql = f\"\"\"\n",
    "                    INSERT INTO innova_hotels_main ({columns})\n",
    "                    VALUES ({values})\n",
    "                    ON DUPLICATE KEY UPDATE {update_clause}\n",
    "                \"\"\"\n",
    "                session_1.execute(text(sql))\n",
    "\n",
    "        print(\"First 10 rows updated successfully in innova_hotels_main.\")\n",
    "    except Exception as e:\n",
    "        print(f\"An error occurred: {e}\")\n",
    "        session_1.rollback()\n",
    "        session_2.rollback()\n",
    "\n",
    "\n",
    "# Execute the transfer\n",
    "transfer_first_10_rows()\n"
   ]
  },
  {
   "cell_type": "code",
   "execution_count": 133,
   "id": "324f8f7a-7b04-45f6-ab32-e9f2d50f2f30",
   "metadata": {},
   "outputs": [
    {
     "name": "stdout",
     "output_type": "stream",
     "text": [
      "Invalid JSON in 'images' for row ID: 3199212. Skipping...\n",
      "Invalid JSON in 'amenity_groups' for row ID: 3199212. Skipping...\n",
      "An error occurred: hotel_id\n"
     ]
    }
   ],
   "source": [
    "from sqlalchemy import create_engine, Table, MetaData, text\n",
    "from sqlalchemy.orm import sessionmaker\n",
    "import json\n",
    "import os\n",
    "\n",
    "# Database connection setup\n",
    "db_host = os.getenv('DB_HOST')\n",
    "db_user = os.getenv('DB_USER')\n",
    "db_pass = os.getenv('DB_PASSWORD')\n",
    "db_name = os.getenv('DB_NAME')\n",
    "\n",
    "DATABASE_URL_SERVER = f\"mysql+pymysql://{db_user}:{db_pass}@{db_host}/{db_name}\"\n",
    "server_engine = create_engine(DATABASE_URL_SERVER)\n",
    "Session_1 = sessionmaker(bind=server_engine)\n",
    "session_1 = Session_1()\n",
    "\n",
    "DATABASE_URL_LOCAL = \"mysql+pymysql://root:@localhost/csvdata01_02102024\"\n",
    "local_engine = create_engine(DATABASE_URL_LOCAL)\n",
    "Session_2 = sessionmaker(bind=local_engine)\n",
    "session_2 = Session_2()\n",
    "\n",
    "# Create separate MetaData objects for each engine\n",
    "metadata_local = MetaData()\n",
    "metadata_server = MetaData()\n",
    "\n",
    "# Reflect tables to the correct engines\n",
    "metadata_local.reflect(bind=local_engine)\n",
    "metadata_server.reflect(bind=server_engine)\n",
    "\n",
    "ratehawk = Table('ratehawk', metadata_local, autoload_with=local_engine)\n",
    "innova_hotels_main = Table('innova_hotels_main', metadata_server, autoload_with=server_engine)\n",
    "\n",
    "# Helper function to escape single quotes\n",
    "def escape_single_quotes(value):\n",
    "    if isinstance(value, str):\n",
    "        return value.replace(\"'\", \"''\")\n",
    "    return value\n",
    "\n",
    "# Mapping function to transfer only the first 10 rows\n",
    "def transfer_first_10_rows():\n",
    "    try:\n",
    "        with session_1.begin(), session_2.begin():\n",
    "            # Fetch the first 10 rows from the ratehawk table in the local database\n",
    "            results = session_2.query(ratehawk).limit(10).all()\n",
    "\n",
    "            for row in results:\n",
    "                try:\n",
    "                    # Parse JSON fields from the ratehawk table (handle missing or invalid JSON)\n",
    "                    images = json.loads(row.images) if row.images else []\n",
    "                except json.JSONDecodeError:\n",
    "                    print(f\"Invalid JSON in 'images' for row ID: {row.my_id}. Skipping...\")\n",
    "                    images = []\n",
    "\n",
    "                try:\n",
    "                    amenities = json.loads(row.amenity_groups) if row.amenity_groups else []\n",
    "                except json.JSONDecodeError:\n",
    "                    print(f\"Invalid JSON in 'amenity_groups' for row ID: {row.my_id}. Skipping...\")\n",
    "                    amenities = []\n",
    "\n",
    "                # Map fields from ratehawk to innova_hotels_main\n",
    "                data = {\n",
    "                    'HotelId': row.hotel_id if row.hotel_id else None,\n",
    "                    'DestinationId': row.destination_id if row.destination_id else None,\n",
    "                    'City': row.city if row.city else None,\n",
    "                    'CityCode': row.city_code if row.city_code else None,\n",
    "                    'State': row.state if row.state else None,\n",
    "                    'StateCode': row.state_code if row.state_code else None,\n",
    "                    'PostCode': row.post_code if row.post_code else None,\n",
    "                    'Country': row.country if row.country else None,\n",
    "                    'CountryCode': row.country_code if row.country_code else None,\n",
    "                    'HotelType': row.hotel_type if row.hotel_type else None,\n",
    "                    'HotelName': row.hotel_name if row.hotel_name else None,\n",
    "                    'Latitude': row.latitude if row.latitude else None,\n",
    "                    'Longitude': row.longitude if row.longitude else None,\n",
    "                    'PrimaryPhoto': row.primary_photo if row.primary_photo else None,\n",
    "                    'AddressLine1': row.address_line1 if row.address_line1 else None,\n",
    "                    'AddressLine2': row.address_line2 if row.address_line2 else None,\n",
    "                    'HotelReview': row.hotel_review if row.hotel_review else None,\n",
    "                    'Website': row.website if row.website else None,\n",
    "                    'Email': row.email if row.email else None,\n",
    "                    'ContactNumber': row.contact_number if row.contact_number else None,\n",
    "                    'HotelStar': row.hotel_star if row.hotel_star else None,\n",
    "                    'RoomAmenities': row.room_amenities if row.room_amenities else None,\n",
    "                    'Amenities_1': amenities[0] if amenities else None,\n",
    "                    'Amenities_2': amenities[1] if len(amenities) > 1 else None,\n",
    "                    'Amenities_3': amenities[2] if len(amenities) > 2 else None,\n",
    "                    'Amenities_4': amenities[3] if len(amenities) > 3 else None,\n",
    "                    'GoogleLocationLink': row.google_location_link if row.google_location_link else None,\n",
    "                    'MapStatus': row.map_status if row.map_status else None,\n",
    "                    'JsonContentStatus': row.json_content_status if row.json_content_status else None,\n",
    "                    'ContentLastUpdateDate': row.content_last_update_date if row.content_last_update_date else None,\n",
    "                    'Confidence': row.confidence if row.confidence else None,\n",
    "                    'CreatedAt': row.created_at if row.created_at else None,\n",
    "                    'ModifiedOn': row.modified_on if row.modified_on else None\n",
    "                }\n",
    "\n",
    "                data['SupplierCode'] = 'ratehawk'\n",
    "                \n",
    "\n",
    "                # Escape single quotes for SQL safety\n",
    "                data = {k: escape_single_quotes(v) if v is not None else None for k, v in data.items()}\n",
    "\n",
    "                # Prepare SQL query for upsert\n",
    "                columns = ', '.join(data.keys())\n",
    "                values = ', '.join([f\"'{v}'\" if v is not None else 'NULL' for v in data.values()])\n",
    "                update_clause = ', '.join([f\"{col} = VALUES({col})\" for col in data.keys()])\n",
    "\n",
    "                sql = f\"\"\"\n",
    "                    INSERT INTO innova_hotels_main ({columns})\n",
    "                    VALUES ({values})\n",
    "                    ON DUPLICATE KEY UPDATE {update_clause}\n",
    "                \"\"\"\n",
    "                session_1.execute(text(sql))\n",
    "\n",
    "        print(\"First 10 rows updated successfully in innova_hotels_main.\")\n",
    "    except Exception as e:\n",
    "        print(f\"An error occurred: {e}\")\n",
    "        session_1.rollback()\n",
    "        session_2.rollback()\n",
    "\n",
    "\n",
    "# Execute the transfer\n",
    "transfer_first_10_rows()\n"
   ]
  },
  {
   "cell_type": "code",
   "execution_count": null,
   "id": "c9e7ffa4-1c50-47d6-9956-81d4cf74e042",
   "metadata": {},
   "outputs": [],
   "source": []
  }
 ],
 "metadata": {
  "kernelspec": {
   "display_name": "Python 3 (ipykernel)",
   "language": "python",
   "name": "python3"
  },
  "language_info": {
   "codemirror_mode": {
    "name": "ipython",
    "version": 3
   },
   "file_extension": ".py",
   "mimetype": "text/x-python",
   "name": "python",
   "nbconvert_exporter": "python",
   "pygments_lexer": "ipython3",
   "version": "3.12.7"
  }
 },
 "nbformat": 4,
 "nbformat_minor": 5
}
