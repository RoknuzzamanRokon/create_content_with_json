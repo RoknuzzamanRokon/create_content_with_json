{
 "cells": [
  {
   "cell_type": "markdown",
   "id": "7b73f538-0a84-4201-b93c-077ce6e4428e",
   "metadata": {},
   "source": [
    "## Database all function are checked here"
   ]
  },
  {
   "cell_type": "markdown",
   "id": "408bc86c-972d-47a1-9ca9-84984b5000af",
   "metadata": {},
   "source": [
    "#### Add module for database connections"
   ]
  },
  {
   "cell_type": "code",
   "execution_count": 25,
   "id": "261f0203-8e4f-42a7-ae39-7d04f3444f3e",
   "metadata": {},
   "outputs": [],
   "source": [
    "from sqlalchemy import create_engine, text, inspect\n",
    "from dotenv import load_dotenv\n",
    "from datetime import datetime\n",
    "import pandas as pd\n",
    "import time\n",
    "import os\n"
   ]
  },
  {
   "cell_type": "markdown",
   "id": "7d835f87-4f4c-4fef-8f3f-4fdd9a26949f",
   "metadata": {},
   "source": [
    "### Connect enviroment using dotenv."
   ]
  },
  {
   "cell_type": "code",
   "execution_count": 26,
   "id": "e860ae4a-24fa-4c58-809a-5096171978c8",
   "metadata": {},
   "outputs": [],
   "source": [
    "load_dotenv()\n",
    "\n",
    "db_user = os.getenv('DB_USER')\n",
    "db_pass = os.getenv('DB_PASSWORD')\n",
    "db_host = os.getenv('DB_HOST')\n",
    "db_name = os.getenv('DB_NAME')"
   ]
  },
  {
   "cell_type": "markdown",
   "id": "86a5c00c-e17e-4245-9793-032c039dd3ea",
   "metadata": {},
   "source": [
    "### Create engine"
   ]
  },
  {
   "cell_type": "code",
   "execution_count": 27,
   "id": "31b0254f-6bb0-456c-9681-283c15284cbe",
   "metadata": {},
   "outputs": [],
   "source": [
    "DATABASE_URL = f\"mysql+pymysql://{db_user}:{db_pass}@{db_host}/{db_name}\"\n",
    "engine = create_engine(DATABASE_URL)"
   ]
  },
  {
   "cell_type": "markdown",
   "id": "c0cac6fa-2d7f-4974-ad95-96ab8e557cd6",
   "metadata": {},
   "source": [
    "### Database connection test"
   ]
  },
  {
   "cell_type": "code",
   "execution_count": 28,
   "id": "1ffaa702-7510-43b1-9e69-6e3efb7a1a22",
   "metadata": {},
   "outputs": [
    {
     "name": "stdout",
     "output_type": "stream",
     "text": [
      "Connected to database: itt_master_contents\n"
     ]
    }
   ],
   "source": [
    "try:\n",
    "    with engine.connect() as connection:\n",
    "        result = connection.execute(text(\"SELECT DATABASE()\"))\n",
    "        db_name = result.fetchone()[0]\n",
    "        print(f\"Connected to database: {db_name}\")\n",
    "except Exception as e:\n",
    "    print(f\"Error: {e}\")"
   ]
  },
  {
   "cell_type": "markdown",
   "id": "8de96a21-0c30-4bc5-ac54-7a676326df64",
   "metadata": {},
   "source": [
    "### Print all database table"
   ]
  },
  {
   "cell_type": "code",
   "execution_count": 30,
   "id": "0a41a137-001f-4566-aa8f-ecb57dfe9a37",
   "metadata": {},
   "outputs": [
    {
     "name": "stdout",
     "output_type": "stream",
     "text": [
      "Table in the database: itt_master_contents\n",
      "hotel_info_all\n",
      "hotels_info_with_gidestination_code\n",
      "innova_hotels_main\n",
      "vervotech_ProviderFamily\n",
      "vervotech_hotel_list\n",
      "vervotech_hotel_map_new\n",
      "vervotech_hotel_map_update\n",
      "vervotech_mapping\n",
      "vervotech_update_data_info\n"
     ]
    }
   ],
   "source": [
    "try:\n",
    "    inspactor = inspect(engine)\n",
    "    tables = inspactor.get_table_names()\n",
    "    if tables:\n",
    "        print(f\"Table in the database: {db_name}\")\n",
    "        for table in tables:\n",
    "            print(table)\n",
    "except Exception as e:\n",
    "    print(f\"Error from database. {e}\")\n",
    "    "
   ]
  },
  {
   "cell_type": "markdown",
   "id": "71a7263f-a7aa-4d2c-adf9-336017f45721",
   "metadata": {},
   "source": [
    "### Get all data from a table for test."
   ]
  },
  {
   "cell_type": "code",
   "execution_count": null,
   "id": "f42be285-9e83-4f3e-84ea-f3f8e0e5c0a3",
   "metadata": {
    "scrolled": true
   },
   "outputs": [],
   "source": [
    "table_name = \"innova_hotels_main\"\n",
    "\n",
    "df = pd.read_sql(table_name, engine)\n",
    "\n",
    "print(df)"
   ]
  },
  {
   "cell_type": "markdown",
   "id": "742c9ede-628a-4361-950b-e663f81503d9",
   "metadata": {},
   "source": [
    "### Get header in the data table using pandes only"
   ]
  },
  {
   "cell_type": "code",
   "execution_count": 34,
   "id": "464d47f7-dbb3-40d0-ac73-ec9957b91f83",
   "metadata": {},
   "outputs": [
    {
     "name": "stdout",
     "output_type": "stream",
     "text": [
      "['Id', 'IttId', 'VervotechId', 'SupplierCode', 'HotelId', 'DestinationId', 'City', 'CityCode', 'State', 'StateCode', 'PostCode', 'Country', 'CountryCode', 'HotelType', 'HotelName', 'Latitude', 'Longitude', 'PrimaryPhoto', 'AddressLine1', 'AddressLine2', 'HotelReview', 'Website', 'Email', 'ContactNumber', 'HotelStar', 'RoomAmenities', 'Amenities_1', 'Amenities_2', 'Amenities_3', 'Amenities_4', 'GoogleLocationLink', 'MapStatus', 'JsonContentStatus', 'ContentLastUpdateDate', 'Confidence', 'CreatedAt', 'ModifiedOn']\n"
     ]
    }
   ],
   "source": [
    "df = pd.read_sql(table_name, engine)\n",
    "\n",
    "header = df.columns.tolist()\n",
    "\n",
    "# print(header)"
   ]
  },
  {
   "cell_type": "markdown",
   "id": "f78de55a-951a-47c1-a846-5bf250ab0f58",
   "metadata": {},
   "source": [
    "### Get header in the data table using SQL query"
   ]
  },
  {
   "cell_type": "code",
   "execution_count": 38,
   "id": "aa24ffb1-1a47-4cf5-b8bf-33653729f466",
   "metadata": {},
   "outputs": [
    {
     "name": "stdout",
     "output_type": "stream",
     "text": [
      "VervotechId\n"
     ]
    }
   ],
   "source": [
    "table = \"innova_hotels_main\"\n",
    "df = pd.read_sql(table, engine)\n",
    "\n",
    "query = f\"SELECT * FROM {table} LIMIT 0;\"\n",
    "\n",
    "header = pd.read_sql(query, engine)\n",
    "\n",
    "header_with_dataframe = header.columns.to_list()\n",
    "# print(header)\n",
    "# print(header_with_dataframe)"
   ]
  },
  {
   "cell_type": "markdown",
   "id": "b1bf881b-3256-4a81-b917-3b61fcd74bd8",
   "metadata": {},
   "source": [
    "### Get number one row in my data table without dictionary"
   ]
  },
  {
   "cell_type": "code",
   "execution_count": 47,
   "id": "c86d5ec0-fcbe-44b7-a380-aa5f74560fee",
   "metadata": {},
   "outputs": [
    {
     "name": "stdout",
     "output_type": "stream",
     "text": [
      "Number one row:\n",
      " Id                                                                       1\n",
      "IttId                                                                 None\n",
      "VervotechId                                                           None\n",
      "SupplierCode                                                          oryx\n",
      "HotelId                                                                  3\n",
      "DestinationId                                                         6071\n",
      "City                                                                 Aswan\n",
      "CityCode                                                              None\n",
      "State                                                                 None\n",
      "StateCode                                                                 \n",
      "PostCode                                                             81511\n",
      "Country                                                              Egypt\n",
      "CountryCode                                                             EG\n",
      "HotelType                                                             None\n",
      "HotelName                                Sofitel Legend Old Cataract Aswan\n",
      "Latitude                                                   24.082284426992\n",
      "Longitude                                                  32.887715399265\n",
      "PrimaryPhoto             https://static.giinfotech.ae/medianew/full/3/4...\n",
      "AddressLine1                                        Abtal El Tahrir Street\n",
      "AddressLine2                                                   Aswan 81511\n",
      "HotelReview                                                              0\n",
      "Website                    https://all.accor.com/hotel/1666/index.en.shtml\n",
      "Email                                                                 None\n",
      "ContactNumber                                                +201022229071\n",
      "HotelStar                                                                0\n",
      "RoomAmenities                                                         None\n",
      "Amenities_1              Bathroom, Shower, Bathtub, Bidet, Hairdryer, D...\n",
      "Amenities_2              Air conditioning, Hotel Safe, Currency Exchang...\n",
      "Amenities_3                                                           None\n",
      "Amenities_4                                                           None\n",
      "GoogleLocationLink                                                    None\n",
      "MapStatus                                                             None\n",
      "JsonContentStatus                                                     None\n",
      "ContentLastUpdateDate                                                  NaT\n",
      "Confidence                                                            None\n",
      "CreatedAt                                                              NaT\n",
      "ModifiedOn                                                             NaT\n",
      "Name: 0, dtype: object\n"
     ]
    }
   ],
   "source": [
    "table = \"innova_hotels_main\"\n",
    "df = pd.read_sql(table, engine)\n",
    "\n",
    "number_one_row = df.iloc[0]\n",
    "print(f\"Number one row:\\n {number_one_row}\")"
   ]
  },
  {
   "cell_type": "markdown",
   "id": "bf661a48-3f30-4aae-8314-b6967a687c25",
   "metadata": {},
   "source": [
    "### Get number one row in my data table with dictionary"
   ]
  },
  {
   "cell_type": "code",
   "execution_count": 48,
   "id": "39dc0871-b2fc-4398-b5b3-c6fd19ea14f1",
   "metadata": {},
   "outputs": [
    {
     "name": "stdout",
     "output_type": "stream",
     "text": [
      "{'Id': 1, 'IttId': None, 'VervotechId': None, 'SupplierCode': 'oryx', 'HotelId': '3', 'DestinationId': '6071', 'City': 'Aswan', 'CityCode': None, 'State': None, 'StateCode': '', 'PostCode': '81511', 'Country': 'Egypt', 'CountryCode': 'EG', 'HotelType': None, 'HotelName': 'Sofitel Legend Old Cataract Aswan', 'Latitude': '24.082284426992', 'Longitude': '32.887715399265', 'PrimaryPhoto': 'https://static.giinfotech.ae/medianew/full/3/4500893.jpg', 'AddressLine1': 'Abtal El Tahrir Street', 'AddressLine2': 'Aswan 81511', 'HotelReview': '0', 'Website': 'https://all.accor.com/hotel/1666/index.en.shtml', 'Email': None, 'ContactNumber': '+201022229071', 'HotelStar': '0', 'RoomAmenities': None, 'Amenities_1': 'Bathroom, Shower, Bathtub, Bidet, Hairdryer, Direct dial telephone, Radio, Internet access, Minibar, Fridge, King-size Bed, Air conditioning (centrally regulated), Central Heating, Safe, Balcony/Terrace, TV, Double Bed, Tea/coffee maker, Washing Machine', 'Amenities_2': 'Air conditioning, Hotel Safe, Currency Exchange, Lifts, Cafe, Shops, Bar(s), Nightclub, Restaurant(s), Conference Room, Internet access, WLAN access, Room Service, Laundry Service, Medical Assistance, Bicycle Hire, Car Park, Kids Club, Playground, Laundry', 'Amenities_3': None, 'Amenities_4': None, 'GoogleLocationLink': None, 'MapStatus': None, 'JsonContentStatus': None, 'ContentLastUpdateDate': NaT, 'Confidence': None, 'CreatedAt': NaT, 'ModifiedOn': NaT}\n"
     ]
    }
   ],
   "source": [
    "table = \"innova_hotels_main\"\n",
    "df = pd.read_sql(table, engine)\n",
    "\n",
    "one_number_row = df.iloc[0]\n",
    "\n",
    "row_info_with_dict = one_number_row.to_dict()\n",
    "\n",
    "print(row_info_with_dict)"
   ]
  },
  {
   "cell_type": "markdown",
   "id": "36ada10b-3f2d-4650-8e93-6267f0f3dedd",
   "metadata": {},
   "source": [
    "### Get selectted key value."
   ]
  },
  {
   "cell_type": "code",
   "execution_count": 75,
   "id": "1539ec97-ac0b-42b9-9b20-3d64043cd367",
   "metadata": {},
   "outputs": [
    {
     "name": "stdout",
     "output_type": "stream",
     "text": [
      "Holte Id: 3\n",
      "Supplier Code: oryx\n",
      "Hotel Name: Sofitel Legend Old Cataract Aswan\n"
     ]
    }
   ],
   "source": [
    "hotel_id = row_info_with_dict.get(\"HotelId\")\n",
    "supplierCode = row_info_with_dict.get(\"SupplierCode\")\n",
    "hotel_name = row_info_with_dict.get(\"HotelName\")\n",
    "amenities = row_info_with_dict.get(\"Amenities_1\")\n",
    "\n",
    "print(f\"Holte Id: {hotel_id}\")\n",
    "print(f\"Supplier Code: {supplierCode}\")\n",
    "print(f\"Hotel Name: {hotel_name}\")\n",
    "\n",
    "# print(f\"Hotel Amenities: {amenities}\")"
   ]
  },
  {
   "cell_type": "markdown",
   "id": "17dd15ea-e1a6-406d-9b74-2821bfaa7016",
   "metadata": {},
   "source": [
    "### Split data in a sell and separate value using strip."
   ]
  },
  {
   "cell_type": "code",
   "execution_count": 74,
   "id": "83282986-4ccc-4473-bc11-55a3321b2ade",
   "metadata": {},
   "outputs": [
    {
     "name": "stdout",
     "output_type": "stream",
     "text": [
      "Lenth data in sell: 19\n",
      "\n",
      "\n",
      "Bathroom\n",
      "Shower\n",
      "Bathtub\n",
      "Bidet\n",
      "Hairdryer\n",
      "Direct dial telephone\n",
      "Radio\n",
      "Internet access\n",
      "Minibar\n",
      "Fridge\n",
      "King-size Bed\n",
      "Air conditioning (centrally regulated)\n",
      "Central Heating\n",
      "Safe\n",
      "Balcony/Terrace\n",
      "TV\n",
      "Double Bed\n",
      "Tea/coffee maker\n",
      "Washing Machine\n"
     ]
    }
   ],
   "source": [
    "amenities_1 = row_info_with_dict.get(\"Amenities_1\")\n",
    "\n",
    "split_data = amenities_1.split(\",\")\n",
    "\n",
    "print(\"Lenth data in sell:\", len(split_data))\n",
    "\n",
    "print(\"\\n\")\n",
    "\n",
    "for i in range(len(split_data)):\n",
    "    print(split_data[i].strip())\n",
    "# print(split_data)"
   ]
  },
  {
   "cell_type": "code",
   "execution_count": null,
   "id": "e9dd67eb-17ea-4dc6-8adf-5dac35031a38",
   "metadata": {},
   "outputs": [],
   "source": []
  }
 ],
 "metadata": {
  "kernelspec": {
   "display_name": "Python 3 (ipykernel)",
   "language": "python",
   "name": "python3"
  },
  "language_info": {
   "codemirror_mode": {
    "name": "ipython",
    "version": 3
   },
   "file_extension": ".py",
   "mimetype": "text/x-python",
   "name": "python",
   "nbconvert_exporter": "python",
   "pygments_lexer": "ipython3",
   "version": "3.12.7"
  }
 },
 "nbformat": 4,
 "nbformat_minor": 5
}
