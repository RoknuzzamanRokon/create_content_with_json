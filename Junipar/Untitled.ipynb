{
 "cells": [
  {
   "cell_type": "code",
   "execution_count": 1,
   "id": "5281934c-a4ad-4761-85bb-4648b93bb29a",
   "metadata": {},
   "outputs": [],
   "source": [
    "from sqlalchemy import create_engine, Table, MetaData, insert, text, inspect\n",
    "from sqlalchemy.orm import sessionmaker\n",
    "import pandas as pd\n",
    "import json"
   ]
  },
  {
   "cell_type": "code",
   "execution_count": 2,
   "id": "297cf141-c207-40a9-b55e-74e70cf225b3",
   "metadata": {},
   "outputs": [],
   "source": [
    "DATABASE_URL = f\"mysql+pymysql://root:@localhost/csvdata01_02102024\"\n",
    "engine = create_engine(DATABASE_URL)\n",
    "metadata = MetaData()\n",
    "paximum_table = Table('juniper', metadata, autoload_with=engine)"
   ]
  },
  {
   "cell_type": "code",
   "execution_count": 3,
   "id": "8df757dc-a7a5-4677-b6a2-5eaafb2cf07f",
   "metadata": {},
   "outputs": [
    {
     "name": "stdout",
     "output_type": "stream",
     "text": [
      "Connected to database: csvdata01_02102024\n"
     ]
    }
   ],
   "source": [
    "try:\n",
    "    with engine.connect() as connection:\n",
    "        result = connection.execute(text(\"SELECT DATABASE()\"))\n",
    "        db_name = result.fetchone()[0]\n",
    "        print(f\"Connected to database: {db_name}\")\n",
    "except Exception as e:\n",
    "    print(f\"Error: {e}\")\n"
   ]
  },
  {
   "cell_type": "code",
   "execution_count": 4,
   "id": "00ac6b73-75c6-4887-8ccd-e95afc4f2000",
   "metadata": {},
   "outputs": [
    {
     "name": "stdout",
     "output_type": "stream",
     "text": [
      "hotels_info\n",
      "hotels_info_with_gidestination_code\n",
      "info_01\n",
      "innova_hotels_main\n",
      "juniper\n",
      "my_table\n",
      "paximum\n",
      "ratehawk\n",
      "z_ocas_member_data\n"
     ]
    }
   ],
   "source": [
    "try:\n",
    "    inspect_table = inspect(engine)\n",
    "    tables = inspect_table.get_table_names()\n",
    "    if tables:\n",
    "        for table in tables:\n",
    "            print(table)\n",
    "\n",
    "except Exception as e:\n",
    "    print(f\"Error {e}\")"
   ]
  },
  {
   "cell_type": "markdown",
   "id": "88742483-6ad2-4916-9cc5-ad32d827d6ed",
   "metadata": {},
   "source": []
  },
  {
   "cell_type": "code",
   "execution_count": 13,
   "id": "0ec4d4df-338a-44df-a4b9-7a55cc19eb73",
   "metadata": {},
   "outputs": [
    {
     "name": "stdout",
     "output_type": "stream",
     "text": [
      "{'soap:Envelope': {'@xmlns:soap': 'http://schemas.xmlsoap.org/soap/envelope/', '@xmlns:xsi': 'http://www.w3.org/2001/XMLSchema-instance', '@xmlns:xsd': 'http://www.w3.org/2001/XMLSchema', 'soap:Body': {'HotelPortfolioResponse': {'@xmlns': 'http://www.juniper.es/webservice/2007/', 'HotelPortfolioRS': {'@Url': 'http://xml-uat.bookingengine.es', '@TimeStamp': '2024-11-23T11:34:20.3714381+01:00', '@IntCode': 'FB5poqs4qMHFVbzEws9wODDtnSZiaOfoMhX3sI/X0WY=', 'HotelPortfolio': {'@Page': '2', '@TotalPages': '1952', '@TotalRecords': '9757', '@LastUpdated': '2024-09-05T20:00:59.153', 'Hotel': [{'@xsi:type': 'JP_HotelInfoPortfolio', '@JPCode': 'JP060468', '@HasSynonyms': 'false', 'Name': 'Embat', 'Zone': {'@JPDCode': 'JPD000003', '@Code': '1', 'Name': 'Can Pastilla|Palma de Mallorca|Majorca|Spain'}, 'Address': 'Carrer Nanses, 7, 07610 Can Pastilla, Illes Balears, Spain', 'ZipCode': '07610', 'Latitude': '39.5343124', 'Longitude': '2.7144459', 'HotelCategory': {'@Type': '2Est', '@Code': '2', '#text': '2 Stars'}, 'City': {'@Id': '15011', '@JPDCode': 'JPD054557', '#text': 'Palma de Mallorca'}}, {'@xsi:type': 'JP_HotelInfoPortfolio', '@JPCode': 'JP060489', '@HasSynonyms': 'false', 'Name': 'Isla del Sol Apartments', 'Zone': {'@JPDCode': 'JPD000003', '@Code': '1', 'Name': 'Can Pastilla|Palma de Mallorca|Majorca|Spain'}, 'Address': 'Carrer dels Pins, 5, 07610 Can Pastilla, Illes Balears, Spain', 'ZipCode': '07610', 'Latitude': '39.5375776', 'Longitude': '2.7142996', 'HotelCategory': {'@Code': '8'}, 'City': {'@Id': '15011', '@JPDCode': 'JPD054557', '#text': 'Palma de Mallorca'}}, {'@xsi:type': 'JP_HotelInfoPortfolio', '@JPCode': 'JP064775', '@HasSynonyms': 'false', 'Name': 'Hotel Linda', 'Zone': {'@JPDCode': 'JPD000003', '@Code': '1', 'Name': 'Can Pastilla|Palma de Mallorca|Majorca|Spain'}, 'Address': 'Octavio Augusto, 2, 07610 Can Pastilla, Illes Balears, Spain', 'ZipCode': '07610', 'Latitude': '39.5378501', 'Longitude': '2.7162373', 'HotelCategory': {'@Type': '3Est', '@Code': '3', '#text': '3 Stars'}, 'City': {'@Id': '15011', '@JPDCode': 'JPD054557', '#text': 'Palma de Mallorca'}}, {'@xsi:type': 'JP_HotelInfoPortfolio', '@JPCode': 'JP067921', '@HasSynonyms': 'true', 'Name': 'Aparthotel Fontanellas Playa', 'Zone': {'@JPDCode': 'JPD000003', '@Code': '1', 'Name': 'Can Pastilla|Palma de Mallorca|Majorca|Spain'}, 'Address': 'Carrer de la Caravella 07610, Can Pastilla, Playa de Palma Mallorca, España', 'ZipCode': '07610', 'Latitude': '39.5321803', 'Longitude': '2.7268001', 'HotelCategory': {'@Type': '4Est', '@Code': '4', '#text': '4 Stars'}, 'City': {'@Id': '15011', '@JPDCode': 'JPD054557', '#text': 'Palma de Mallorca'}}, {'@xsi:type': 'JP_HotelInfoPortfolio', '@JPCode': 'JP146935', '@HasSynonyms': 'false', 'Name': 'Hotel Ilusion Calma', 'Zone': {'@JPDCode': 'JPD000003', '@Code': '1', 'Name': 'Can Pastilla|Palma de Mallorca|Majorca|Spain'}, 'Address': 'Calle de Horacio, 5, 07610, Can Pastilla, Mallorca', 'ZipCode': '07610', 'Latitude': '39.5362216', 'Longitude': '2.7159193', 'HotelCategory': {'@Type': '3Est', '@Code': '3', '#text': '3 Stars'}, 'City': {'@Id': '15011', '@JPDCode': 'JPD054557', '#text': 'Palma de Mallorca'}}]}}}}}}\n"
     ]
    }
   ],
   "source": [
    "import requests\n",
    "import xmltodict\n",
    "import json\n",
    "\n",
    "url = \"https://xml-uat.bookingengine.es/WebService/jp/operations/staticdatatransactions.asmx\"\n",
    "\n",
    "payload = \"<soapenv:Envelope xmlns:soapenv=\\\"http://schemas.xmlsoap.org/soap/envelope/\\\" xmlns=\\\"http://www.juniper.es/webservice/2007/\\\">\\n   <soapenv:Header/>\\n   <soapenv:Body>\\n      <HotelPortfolio>\\n         <HotelPortfolioRQ Version=\\\"1.1\\\" Language=\\\"en\\\" Page=\\\"2\\\" RecordsPerPage=\\\"5\\\">\\n            <Login Password=\\\"^wvW6#[49J/G\\\" Email=\\\"TestXMLNofshonTours\\\"/>\\n         </HotelPortfolioRQ>\\n      </HotelPortfolio>\\n   </soapenv:Body>\\n</soapenv:Envelope>\"\n",
    "headers = {\n",
    "  'Content-Type': 'text/xml;charset=UTF-8',\n",
    "  'SOAPAction': '\"http://www.juniper.es/webservice/2007/HotelPortfolio\"',\n",
    "  'Cookie': 'StatC=8l+HAPXk1NeIsJR8qq/ISw==; StatP=lh5UxVPejVDjU3b27uc0fygTysSaay6K5gfbVxJWTYZM4f+TafxAFFOXsj/1uQ3n; idioma=en'\n",
    "}\n",
    "\n",
    "response = requests.request(\"POST\", url, headers=headers, data=payload)\n",
    "\n",
    "data_dict = xmltodict.parse(response.text)\n",
    "print(data_dict)\n"
   ]
  },
  {
   "cell_type": "code",
   "execution_count": 14,
   "id": "ebf48b54-ea93-4ee1-a7b1-d9c9f73b9299",
   "metadata": {},
   "outputs": [
    {
     "name": "stdout",
     "output_type": "stream",
     "text": [
      "[{'@xsi:type': 'JP_HotelInfoPortfolio', '@JPCode': 'JP060468', '@HasSynonyms': 'false', 'Name': 'Embat', 'Zone': {'@JPDCode': 'JPD000003', '@Code': '1', 'Name': 'Can Pastilla|Palma de Mallorca|Majorca|Spain'}, 'Address': 'Carrer Nanses, 7, 07610 Can Pastilla, Illes Balears, Spain', 'ZipCode': '07610', 'Latitude': '39.5343124', 'Longitude': '2.7144459', 'HotelCategory': {'@Type': '2Est', '@Code': '2', '#text': '2 Stars'}, 'City': {'@Id': '15011', '@JPDCode': 'JPD054557', '#text': 'Palma de Mallorca'}}, {'@xsi:type': 'JP_HotelInfoPortfolio', '@JPCode': 'JP060489', '@HasSynonyms': 'false', 'Name': 'Isla del Sol Apartments', 'Zone': {'@JPDCode': 'JPD000003', '@Code': '1', 'Name': 'Can Pastilla|Palma de Mallorca|Majorca|Spain'}, 'Address': 'Carrer dels Pins, 5, 07610 Can Pastilla, Illes Balears, Spain', 'ZipCode': '07610', 'Latitude': '39.5375776', 'Longitude': '2.7142996', 'HotelCategory': {'@Code': '8'}, 'City': {'@Id': '15011', '@JPDCode': 'JPD054557', '#text': 'Palma de Mallorca'}}, {'@xsi:type': 'JP_HotelInfoPortfolio', '@JPCode': 'JP064775', '@HasSynonyms': 'false', 'Name': 'Hotel Linda', 'Zone': {'@JPDCode': 'JPD000003', '@Code': '1', 'Name': 'Can Pastilla|Palma de Mallorca|Majorca|Spain'}, 'Address': 'Octavio Augusto, 2, 07610 Can Pastilla, Illes Balears, Spain', 'ZipCode': '07610', 'Latitude': '39.5378501', 'Longitude': '2.7162373', 'HotelCategory': {'@Type': '3Est', '@Code': '3', '#text': '3 Stars'}, 'City': {'@Id': '15011', '@JPDCode': 'JPD054557', '#text': 'Palma de Mallorca'}}, {'@xsi:type': 'JP_HotelInfoPortfolio', '@JPCode': 'JP067921', '@HasSynonyms': 'true', 'Name': 'Aparthotel Fontanellas Playa', 'Zone': {'@JPDCode': 'JPD000003', '@Code': '1', 'Name': 'Can Pastilla|Palma de Mallorca|Majorca|Spain'}, 'Address': 'Carrer de la Caravella 07610, Can Pastilla, Playa de Palma Mallorca, España', 'ZipCode': '07610', 'Latitude': '39.5321803', 'Longitude': '2.7268001', 'HotelCategory': {'@Type': '4Est', '@Code': '4', '#text': '4 Stars'}, 'City': {'@Id': '15011', '@JPDCode': 'JPD054557', '#text': 'Palma de Mallorca'}}, {'@xsi:type': 'JP_HotelInfoPortfolio', '@JPCode': 'JP146935', '@HasSynonyms': 'false', 'Name': 'Hotel Ilusion Calma', 'Zone': {'@JPDCode': 'JPD000003', '@Code': '1', 'Name': 'Can Pastilla|Palma de Mallorca|Majorca|Spain'}, 'Address': 'Calle de Horacio, 5, 07610, Can Pastilla, Mallorca', 'ZipCode': '07610', 'Latitude': '39.5362216', 'Longitude': '2.7159193', 'HotelCategory': {'@Type': '3Est', '@Code': '3', '#text': '3 Stars'}, 'City': {'@Id': '15011', '@JPDCode': 'JPD054557', '#text': 'Palma de Mallorca'}}]\n"
     ]
    }
   ],
   "source": [
    "# Extract hotel data\n",
    "hotels = []\n",
    "hotel_list = data_dict.get(\"soap:Envelope\", {}).get(\"soap:Body\", {}).get(\n",
    "    \"HotelPortfolioResponse\", {}\n",
    ").get(\"HotelPortfolioRS\", {}).get(\"HotelPortfolio\", {}).get(\"Hotel\", [])\n",
    "\n",
    "# print(hotel_list)\n",
    "\n",
    "if not hotel_list:\n",
    "    print(\"No hotels found in the response.\")\n",
    "    exit()\n",
    "\n",
    "# Process and insert hotel data into the database\n",
    "with engine.connect() as conn:\n",
    "    for hotel in hotel_list:\n",
    "        hotel_data = {\n",
    "            \"HotelName\": hotel.get(\"Name\"),\n",
    "            \"HotelId\": hotel.get(\"@JPCode\"),\n",
    "            \"ZipCode\": hotel.get(\"ZipCode\"),\n",
    "            \"Latitude\": hotel.get(\"Latitude\"),\n",
    "            \"Longitude\": hotel.get(\"Longitude\"),\n",
    "        }\n",
    "\n",
    "        # Insert into the database\n",
    "        try:\n",
    "            stmt = insert(juniper_table).values(hotel_data)\n",
    "            conn.execute(stmt)\n",
    "            conn.commit()  # Save the changes immediately\n",
    "            print(f\"Inserted: {hotel_data}\")\n",
    "        except Exception as e:\n",
    "            print(f\"Error inserting {hotel_data}: {e}\")"
   ]
  },
  {
   "cell_type": "code",
   "execution_count": 12,
   "id": "9a14fd13-b4ed-40e3-b7f1-975a7841c6a7",
   "metadata": {},
   "outputs": [],
   "source": []
  },
  {
   "cell_type": "code",
   "execution_count": null,
   "id": "fba9d6b4-0282-4658-9529-ed3bd0054094",
   "metadata": {},
   "outputs": [],
   "source": []
  }
 ],
 "metadata": {
  "kernelspec": {
   "display_name": "Python 3 (ipykernel)",
   "language": "python",
   "name": "python3"
  },
  "language_info": {
   "codemirror_mode": {
    "name": "ipython",
    "version": 3
   },
   "file_extension": ".py",
   "mimetype": "text/x-python",
   "name": "python",
   "nbconvert_exporter": "python",
   "pygments_lexer": "ipython3",
   "version": "3.12.7"
  }
 },
 "nbformat": 4,
 "nbformat_minor": 5
}
